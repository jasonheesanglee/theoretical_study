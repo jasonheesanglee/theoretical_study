{
 "cells": [
  {
   "cell_type": "markdown",
   "id": "049fcc5f-8b09-466a-8203-ff9ff1f98f62",
   "metadata": {},
   "source": [
    "# 3-11 연습문제\n",
    "$\\begin{pmatrix}\n",
    "3 & -2 \\\\\n",
    "2 & 5\n",
    "\\end{pmatrix}\\begin{pmatrix}\n",
    "x \\\\\n",
    "y\n",
    "\\end{pmatrix}=\\begin{pmatrix}\n",
    "3 \\\\\n",
    "2\n",
    "\\end{pmatrix}$를 계산하시오."
   ]
  },
  {
   "cell_type": "markdown",
   "id": "526f28fd-c412-4a0c-8b4a-5b146e63aefc",
   "metadata": {},
   "source": [
    "# My answer\n",
    "$(3\\times x) + (-2\\times y) =  3$<br>\n",
    "$(2\\times x) + (5\\times y) =  2$ <br><br>\n",
    "$-2y = 3-3x$<br>\n",
    "$5y = 2-2x$<br><br>\n",
    "$y = \\frac{3(1-x)}{-2}$<br>\n",
    "$y = \\frac{2(1-x)}{5}$<br><br>\n",
    "\n",
    "$\\frac{3(1-x)}{-2} = \\frac{2(1-x)}{5}$<br>\n",
    "$3(1-x) = -2(\\frac{2(1-x)}{5})$<br>\n",
    "$1-x = -\\frac{2}{3}(\\frac{2(1-x)}{5})$<br>\n",
    "$x = \\frac{2}{3}(\\frac{2(1-x)}{5})+1$<br>\n",
    "$x = \\frac{4(1-x)}{15}+1$<br>\n",
    "$x\\times(1+\\frac{4}{15}) = \\frac{4}{15}+1$<br>\n",
    "$x = \\frac{\\frac{4}{15}+1}{(1+\\frac{4}{15})}$<br>\n",
    "$x = 1$<br><br>\n",
    "\n",
    "$y = \\frac{3(1-1)}{-2}$<br>\n",
    "$y = 0$"
   ]
  },
  {
   "cell_type": "markdown",
   "id": "acda6c0b-46e6-463b-87a1-7e8a07889336",
   "metadata": {},
   "source": [
    "# Suggested answer using inverse matrix\n",
    "$\\matrix{A^{-1}} = \\frac{1}{3\\times 5 - (2\\times (-2))}\\begin{pmatrix}\n",
    "5 & 2 \\\\\n",
    "-2 & 3\n",
    "\\end{pmatrix}$=\n",
    "$\\frac{1}{19}\\begin{pmatrix}\n",
    "5 & 2 \\\\\n",
    "-2 & 3\n",
    "\\end{pmatrix}$\n",
    "\n",
    "$\\matrix A^{-1} \\matrix A \\begin{pmatrix}\n",
    "x\\\\\n",
    "y\n",
    "\\end{pmatrix} = E\\begin{pmatrix}\n",
    "x\\\\\n",
    "y\n",
    "\\end{pmatrix} = \\begin{pmatrix}\n",
    "x\\\\\n",
    "y\n",
    "\\end{pmatrix}$ <br>\n",
    "$\\matrix A^{-1}\\begin{pmatrix}\n",
    "3\\\\\n",
    "2\n",
    "\\end{pmatrix} = \\frac{1}{19}\\begin{pmatrix}\n",
    "5\\times3+2\\times2\\\\\n",
    "-2\\times3+3\\times2\n",
    "\\end{pmatrix} = \\frac{1}{19}\\begin{pmatrix}\n",
    "19\\\\\n",
    "0\n",
    "\\end{pmatrix} = \\begin{pmatrix}\n",
    "1\\\\\n",
    "0\n",
    "\\end{pmatrix}$<br>\n",
    "$\\begin{pmatrix}\n",
    "x\\\\\n",
    "y\n",
    "\\end{pmatrix}=\\begin{pmatrix}\n",
    "1\\\\\n",
    "0\n",
    "\\end{pmatrix}$<br>\n",
    "$x = 1$, $y = 0$"
   ]
  }
 ],
 "metadata": {
  "kernelspec": {
   "display_name": "Python 3 (ipykernel)",
   "language": "python",
   "name": "python3"
  },
  "language_info": {
   "codemirror_mode": {
    "name": "ipython",
    "version": 3
   },
   "file_extension": ".py",
   "mimetype": "text/x-python",
   "name": "python",
   "nbconvert_exporter": "python",
   "pygments_lexer": "ipython3",
   "version": "3.11.5"
  }
 },
 "nbformat": 4,
 "nbformat_minor": 5
}
