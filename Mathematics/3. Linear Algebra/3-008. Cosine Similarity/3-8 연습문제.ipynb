{
 "cells": [
  {
   "cell_type": "markdown",
   "id": "54754161-7261-4a6e-826f-e71a1c38605e",
   "metadata": {},
   "source": [
    "# 3-8 연습문제\n",
    "$\\vec{a} = (1, 2, 3)$과 $\\vec{b} = (6, 5, 4)$의 코사인 유사도를 구하시오."
   ]
  },
  {
   "cell_type": "markdown",
   "id": "53f26283-de06-4845-b266-deb7bae4fa04",
   "metadata": {},
   "source": [
    "$\\frac{1\\times 6 + 2 \\times 5 + 3 \\times 4}{\\sqrt{1^2+2^2+3^2}\\times\\sqrt{6^2+5^2+4^2}}$ <br>\n",
    "$=\\frac{6 + 10 + 12}{\\sqrt{1+4+9}\\times\\sqrt{36+25+16}}$ <br>\n",
    "$=\\frac{28}{\\sqrt{14}\\times\\sqrt{77}}$ <br>\n",
    "$=\\frac{4\\times7}{\\sqrt{2}\\times\\sqrt{7}\\times\\sqrt{7}\\times\\sqrt{11}}$ <br>\n",
    "$=\\frac{4}{\\sqrt{2}\\times\\sqrt{11}}$ <br>\n",
    "$=\\frac{2\\sqrt{2}}{\\sqrt{11}}$ <br>\n",
    "$=\\frac{2\\sqrt{22}}{11}$ <br>"
   ]
  }
 ],
 "metadata": {
  "kernelspec": {
   "display_name": "Python 3 (ipykernel)",
   "language": "python",
   "name": "python3"
  },
  "language_info": {
   "codemirror_mode": {
    "name": "ipython",
    "version": 3
   },
   "file_extension": ".py",
   "mimetype": "text/x-python",
   "name": "python",
   "nbconvert_exporter": "python",
   "pygments_lexer": "ipython3",
   "version": "3.11.5"
  }
 },
 "nbformat": 4,
 "nbformat_minor": 5
}
