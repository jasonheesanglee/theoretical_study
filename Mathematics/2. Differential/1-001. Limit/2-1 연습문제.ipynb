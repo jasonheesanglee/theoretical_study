{
 "cells": [
  {
   "cell_type": "markdown",
   "id": "6013f418-b695-4f6d-849e-78c2a49b46ea",
   "metadata": {},
   "source": [
    "# 2-1 연습문제\n",
    "$\\lim_{x\\to2}\\frac{x^2-x-2}{x^3-8}$를 계산하시오."
   ]
  },
  {
   "cell_type": "markdown",
   "id": "4f73e37f-c5b6-4d9f-a44b-0e376791ac08",
   "metadata": {},
   "source": [
    "$=\\lim_{x\\to2}\\frac{(x-2)(x+1)}{(x-2)(x^2+2x+4)}$ <br>\n",
    "$=\\lim_{x\\to2}\\frac{(x+1)}{(x^2+2x+4)}$ <br>\n",
    "$=\\frac{(2+1)}{(2^2+2*2+4)}$ <br>\n",
    "$=\\frac{3}{12}$ <br>\n",
    "$=\\frac{1}{4}$"
   ]
  }
 ],
 "metadata": {
  "kernelspec": {
   "display_name": "Python 3 (ipykernel)",
   "language": "python",
   "name": "python3"
  },
  "language_info": {
   "codemirror_mode": {
    "name": "ipython",
    "version": 3
   },
   "file_extension": ".py",
   "mimetype": "text/x-python",
   "name": "python",
   "nbconvert_exporter": "python",
   "pygments_lexer": "ipython3",
   "version": "3.11.5"
  }
 },
 "nbformat": 4,
 "nbformat_minor": 5
}
