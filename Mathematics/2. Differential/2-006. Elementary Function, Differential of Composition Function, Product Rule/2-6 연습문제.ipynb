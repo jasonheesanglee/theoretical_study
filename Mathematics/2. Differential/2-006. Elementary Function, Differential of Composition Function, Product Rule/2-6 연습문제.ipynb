{
 "cells": [
  {
   "cell_type": "markdown",
   "id": "2f6efc2d-e03c-4a33-b5ef-d5ada5a0bf09",
   "metadata": {},
   "source": [
    "# 2-6 연습문제\n",
    "다음 함수를 $x$에 대해 미분하시오.\n",
    "1. $f(x)=\\sin x + \\cos x$\n",
    "2. $f(x)=\\frac{1}{1+\\exp(-ax)}$"
   ]
  },
  {
   "cell_type": "markdown",
   "id": "2af487d1-b0b9-4bf2-a2c7-b01ce35abd2c",
   "metadata": {},
   "source": [
    "1. $\\cos x - \\sin x$\n",
    "2. $\\frac{1}{1+\\exp(-ax)}$ <br>\n",
    "   $= {1+ \\exp(-ax)}^{-1}$ <br>\n",
    "   $= \\frac{d{1+ \\exp(-ax)}^{-1}}{d(1+ \\exp(-ax))} \\times \\frac{d(1+ \\exp(-ax))}{d(-ax)} \\times \\frac{d(-ax)}{dx}$ <br>\n",
    "   $= -(1+ \\exp(-ax))^{-2} \\times \\exp(-ax) \\times (-a)$ <br>\n",
    "   $= \\frac{a\\times \\exp(-ax)}{(1+ \\exp(-ax))^2}$"
   ]
  }
 ],
 "metadata": {
  "kernelspec": {
   "display_name": "Python 3 (ipykernel)",
   "language": "python",
   "name": "python3"
  },
  "language_info": {
   "codemirror_mode": {
    "name": "ipython",
    "version": 3
   },
   "file_extension": ".py",
   "mimetype": "text/x-python",
   "name": "python",
   "nbconvert_exporter": "python",
   "pygments_lexer": "ipython3",
   "version": "3.11.5"
  }
 },
 "nbformat": 4,
 "nbformat_minor": 5
}
