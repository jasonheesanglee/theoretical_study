{
 "cells": [
  {
   "cell_type": "markdown",
   "id": "bda66899-290d-4a29-95ee-fa7363a3b44b",
   "metadata": {},
   "source": [
    "# 2-5. 연습문제\n",
    "다음 함수의 최댓값, 최솟값을 구하시오.<br>\n",
    "$g(x) = x^3-3x^2+4$, $(-0.5 \\leq x \\leq 2.5)$"
   ]
  },
  {
   "cell_type": "markdown",
   "id": "4e755286-acdb-4af3-a649-1bc594c4da22",
   "metadata": {},
   "source": [
    "# My Answer\n",
    "$g'(x) = 3x^2 - 6x$ <br>\n",
    "$g''(x) = 6x - 6$ <br>\n",
    "최댓값 = 4 <br>\n",
    "최솟값 = 0 <br>"
   ]
  },
  {
   "cell_type": "code",
   "execution_count": null,
   "id": "d537268c-f335-4c57-bba0-8e2b9b025278",
   "metadata": {},
   "outputs": [],
   "source": []
  }
 ],
 "metadata": {
  "kernelspec": {
   "display_name": "Python 3 (ipykernel)",
   "language": "python",
   "name": "python3"
  },
  "language_info": {
   "codemirror_mode": {
    "name": "ipython",
    "version": 3
   },
   "file_extension": ".py",
   "mimetype": "text/x-python",
   "name": "python",
   "nbconvert_exporter": "python",
   "pygments_lexer": "ipython3",
   "version": "3.11.5"
  }
 },
 "nbformat": 4,
 "nbformat_minor": 5
}
