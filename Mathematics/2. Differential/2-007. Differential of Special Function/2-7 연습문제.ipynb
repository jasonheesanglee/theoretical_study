{
 "cells": [
  {
   "cell_type": "markdown",
   "id": "47b6213e-49b2-4dd8-9b4e-a9cced63c333",
   "metadata": {},
   "source": [
    "# 2-7 연습문제\n",
    "\n",
    "1. 정규분포의 확률밀도함수 $\\phi_{\\mu,\\sigma^2}(x)=\\frac{1}{\\sqrt{2\\pi}\\sigma}\\exp(-\\frac{(x-\\mu)^2}{2\\sigma^2})$를 미분하시오."
   ]
  },
  {
   "cell_type": "markdown",
   "id": "b48aa426-eb37-4dd9-be29-754e110f5cbf",
   "metadata": {},
   "source": [
    "$u= -\\frac{(x-\\mu)^2}{2\\sigma^2}$라고 가정<br>\n",
    "$\\phi_{\\mu,sigma^2}(x)$를 $\\phi_{\\mu,u}(x)=\\frac{1}{\\sqrt{2\\pi}\\sigma} \\exp u$와 $u=-\\frac{(x-\\mu)^2}{2\\sigma^2}$로 분해하여 각각에 대해 미분해 줄 수 있음.<br>\n",
    "$\\frac{d\\phi_{\\mu,\\sigma^2}(x)}{dx}=\\frac{d\\phi_{\\mu,u}(x)}{du}\\times \\frac{du}{dx}$<br>\n",
    "$= \\frac{1}{\\sqrt{2\\pi}\\sigma}\\exp u \\times (-\\frac{2(x-\\mu)}{2\\sigma^2})$<br>\n",
    "$= -\\frac{x-\\mu}{\\sqrt{2\\pi}\\sigma^3}\\exp(-\\frac{(x-\\mu)^2}{2\\sigma^2})$"
   ]
  }
 ],
 "metadata": {
  "kernelspec": {
   "display_name": "Python 3 (ipykernel)",
   "language": "python",
   "name": "python3"
  },
  "language_info": {
   "codemirror_mode": {
    "name": "ipython",
    "version": 3
   },
   "file_extension": ".py",
   "mimetype": "text/x-python",
   "name": "python",
   "nbconvert_exporter": "python",
   "pygments_lexer": "ipython3",
   "version": "3.11.5"
  }
 },
 "nbformat": 4,
 "nbformat_minor": 5
}
