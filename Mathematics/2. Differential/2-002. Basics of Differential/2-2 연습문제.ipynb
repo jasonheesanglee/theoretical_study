{
 "cells": [
  {
   "cell_type": "markdown",
   "id": "190c588f-27e2-4239-8d61-f4e3aa948c82",
   "metadata": {},
   "source": [
    "1. 미분의 정의에 따라 $f(x)=x^2$을 미분하시오.\n",
    "2. $y=x^2$위의 점 $(3, 9)$에 대한 접선의 방정식을 구하시오."
   ]
  },
  {
   "cell_type": "markdown",
   "id": "12abebae-84bb-4c70-9b00-e583928a8046",
   "metadata": {},
   "source": [
    "1. $\\frac{df(x)}{dx}$ <br>\n",
    "   $=lim_{h\\to0}\\frac{(x+h)^2-x^2}{h}$ <br>\n",
    "   $=lim_{h\\to0}\\frac{x^2+2xh+h^2-x^2}{h}$ <br>\n",
    "   $=lim_{h\\to0}\\frac{2xh+h^2}{h}$ <br>\n",
    "   $=lim_{h\\to0}2x+h$ <br>\n",
    "   $=2x$ <br>\n",
    "\n",
    "2. $f(x) = x^2$ <br>의 미분 $f'(x)= 2x$\n",
    "   $x=3$ 이면 $f'(x)=6$ <br>\n",
    "   $y=6x+b$, $y=f(x)=9$, $b=-9$ <br>\n",
    "   $y=6x-9$"
   ]
  }
 ],
 "metadata": {
  "kernelspec": {
   "display_name": "Python 3 (ipykernel)",
   "language": "python",
   "name": "python3"
  },
  "language_info": {
   "codemirror_mode": {
    "name": "ipython",
    "version": 3
   },
   "file_extension": ".py",
   "mimetype": "text/x-python",
   "name": "python",
   "nbconvert_exporter": "python",
   "pygments_lexer": "ipython3",
   "version": "3.11.5"
  }
 },
 "nbformat": 4,
 "nbformat_minor": 5
}
