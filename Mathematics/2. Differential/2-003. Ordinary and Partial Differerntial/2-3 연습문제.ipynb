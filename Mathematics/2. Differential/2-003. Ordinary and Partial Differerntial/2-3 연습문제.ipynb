{
 "cells": [
  {
   "cell_type": "markdown",
   "id": "fbe3d93a-27e9-4bd0-a61b-3ba2162f26cb",
   "metadata": {},
   "source": [
    "# 2-3 연습문제\n",
    "1. 다음 식을 $x$에 대해 미분하시오.<br>\n",
    "$f(x) = ax^2+bx+c$<br><br>\n",
    "2. 다음 식을 $x$와 $y$ 각각에 대해 편미분하시오.<br>\n",
    "$f(x,y)=3x^2+5xy+3y^3$"
   ]
  },
  {
   "cell_type": "markdown",
   "id": "ef5b5bd8-12d5-47be-8d69-b113fe88b092",
   "metadata": {},
   "source": [
    "# My Answer\n",
    "1. $2ax+b$ (상수항은 날라가고, $x$가 붙어있는 항들은 차수 하나 내려주고, 차수를 앞으로 빼줌)<br>\n",
    "2. <br>\n",
    "2-1. $\\frac{f(x,y)}{\\partial{x}}$일때 $y = 0$이라고 가정, = $6x$<br>\n",
    "2-2. $\\frac{f(x,y)}{\\partial{y}}$일때 $x = 0$이라고 가정, = $6y^2$<br>"
   ]
  },
  {
   "cell_type": "markdown",
   "id": "2aa6881e-4f14-49e6-a00e-7994e2e0224e",
   "metadata": {},
   "source": [
    "## My Question 1 for Question 2-3-2\n",
    "$f(x,y)=3x^2+5xy+3y^3$에 대해서,<br>\n",
    "x에 대해 편미분 할 때는 y를 상수 취급,<br>\n",
    "y에 대해 편미분 할 때는 x를 상수 취급,<br>\n",
    "해줘서 날라가는 거 아닌가요?<br><br>\n",
    "\n",
    "x에 대해 편미분 하면 답이 6x + 5y이고, y에 대해 편미분하면 답이 5x + 9y*2라고 하는데...<br>\n",
    "각각 y=0, x=0이라고 생각하면 안되는 건가요...? (이렇게 생각하면 답이 각각 6x, 6y^2이 되야할거 같은데<br>\n",
    "가운데 5xy가 왜 살아남는지가 궁금합니다!<br>"
   ]
  },
  {
   "cell_type": "markdown",
   "id": "50bacf5a-db11-4f28-a3d6-2f2d2e7f5103",
   "metadata": {},
   "source": [
    "## Answer to Question 1\n",
    "함수 $f(x, y) = 3x^2 + 5xy + 3y^3$에 대해 $x$에 대한 편미분과 $y$에 대한 편미분을 할 때, 다른 변수는 상수로 취급해야 합니다.<br> 이 경우, $x$에 대해 편미분할 때 $y$를 상수로 취급하고, y에 대해 편미분할 때 x를 상수로 취급합니다.<br>\n",
    "\n",
    "### x에 대한 편미분 (y를 상수로 취급)\n",
    "$\\frac{\\partial f}{\\partial x} = \\frac{\\partial}{\\partial x}(3x^2) + \\frac{\\partial}{\\partial x}(5xy) + \\frac{\\partial}{\\partial x}(3y^3)$ <br>\n",
    "\n",
    "- 여기서 $3x^2$과 $5xy$는 $x$에 관한 항이고,$3y^3$은 $x$와 관계없는 상수 항입니다.<br>\n",
    "- 따라서 $\\frac{\\partial}{\\partial x}(3x^2) = 6x$, $\\frac{\\partial}{\\partial x}(5xy) = 5y$ ($y$는 상수로 취급), $\\frac{\\partial}{\\partial x}(3y^3) = 0$ (상수항의 미분은 $0$)<br>\n",
    "- 결과적으로 $\\frac{\\partial f}{\\partial x} = 6x + 5y$<br><br>\n",
    "\n",
    "### y에 대한 편미분 (x를 상수로 취급)\n",
    "$\\frac{\\partial f}{\\partial y} = \\frac{\\partial}{\\partial y}(3x^2) + \\frac{\\partial}{\\partial y}(5xy) + \\frac{\\partial}{\\partial y}(3y^3)$<br>\n",
    "\n",
    "- 여기서 $3y^3$과 $5xy$는 $y$에 관한 항이고, $3x^2$는 $y$와 관계없는 상수 항입니다.<br>\n",
    "- 따라서 $\\frac{\\partial}{\\partial y}(3y^3) = 9y^2$, $\\frac{\\partial}{\\partial y}(5xy) = 5x$ ($x$는 상수로 취급), $\\frac{\\partial}{\\partial y}(3x^2) = 0$ (상수항의 미분은 $0$)<br>\n",
    "- 결과적으로 $\\frac{\\partial f}{\\partial y} = 5x + 9y^2$ <br><br>\n",
    "\n",
    "### 중요한 점\n",
    "편미분에서 특정 변수를 0으로 취급하면 안 됩니다. \"$x=0$ 또는 $y=0$으로 취급\"하는 것이 아니라,<br>각각 \"$x$ 또는 $y$를 제외한 다른 변수를 상수\"로 취급합니다. 따라서 $5xy$ 항은 $x$와 $y$ 둘 다에 영향을 받으므로 양쪽 편미분에서 존재하게 됩니다.<br>"
   ]
  },
  {
   "cell_type": "markdown",
   "id": "81e2b604-937d-48e3-a815-79839bc28e2a",
   "metadata": {},
   "source": [
    "## My Question 2 for Question 2-3-2\n",
    "그러면 왜 $x$에 대해 편미분 할때는 $3x^2$이 $6x$가 되고... $y$에 대해 편미분 할 때는 $3y^3$은 $9 y^2$이 되는거죠?"
   ]
  },
  {
   "cell_type": "markdown",
   "id": "f2d80fba-ad59-409b-894c-7a930333132b",
   "metadata": {},
   "source": [
    "## Answer to Question 2\n",
    "편미분을 할 때 기본 미분 규칙을 따르게 됩니다. 여기서 사용되는 두 가지 기본 규칙은 다음과 같습니다:<br>\n",
    "\n",
    "1. **거듭제곱의 미분**: 함수 $ f(x) = x^n $ 의 미분은 $ f'(x) = nx^{n-1} $ 입니다. 이 규칙은 변수가 한 개인 단항식에 적용됩니다.<br>\n",
    "\n",
    "2. **계수 규칙**: 상수 계수가 있는 함수의 미분은 계수를 유지하면서 함수의 나머지 부분을 미분합니다.<br>\n",
    "\n",
    "이제 주어진 함수 $ f(x, y) = 3x^2 + 5xy + 3y^3 $ 을 보면, 각 항은 x와 y의 거듭제곱 형태로 되어 있습니다.<br>따라서 이 규칙들을 적용하여 편미분을 수행할 수 있습니다.<br><br>\n",
    "\n",
    "### x에 대한 편미분 ($ \\frac{\\partial}{\\partial x} $)\n",
    "\n",
    "1. **$ 3x^2 $**: 여기서 $ x^2 $는 $ x $의 제곱이므로, 미분하면 $ 2 \\times x^{2-1} = 2x $이 됩니다. 계수 3을 그대로 유지하면, 이 항의 편미분 결과는 $ 3 \\times 2x = 6x $가 됩니다.<br>\n",
    "\n",
    "2. **$ 5xy $**: 여기서 $ y $는 상수로 취급되므로, $ x $만 미분 대상입니다. $ x $의 지수는 1이므로, 미분하면 1이 됩니다. 따라서 이 항의 편미분 결과는 $ 5y $가 됩니다.<br><br>\n",
    "\n",
    "### y에 대한 편미분 ($ \\frac{\\partial}{\\partial y} $)\n",
    "\n",
    "1. **$ 3y^3 $**: 여기서 $ y^3 $는 $ y $의 세제곱이므로, 미분하면 $ 3 \\times y^{3-1} = 3y^2 $이 됩니다. 계수 3을 그대로 유지하면, 이 항의 편미분 결과는 $ 3 \\times 3y^2 = 9y^2 $가 됩니다.<br>\n",
    "\n",
    "2. **$ 5xy $**: 여기서 $ x $는 상수로 취급되므로, $y$만 미분 대상입니다. $ y $의 지수는 1이므로, 미분하면 1이 됩니다. 따라서 이 항의 편미분 결과는 $ 5x $가 됩니다.<br>\n",
    "\n",
    "이런 방식으로 각 항을 개별적으로 미분하고, 결과를 합산하여 전체 함수의 편미분을 구합니다.<br>"
   ]
  },
  {
   "cell_type": "code",
   "execution_count": null,
   "id": "0c12fcf3-d073-4d1f-8b52-89396f5869a9",
   "metadata": {},
   "outputs": [],
   "source": []
  }
 ],
 "metadata": {
  "kernelspec": {
   "display_name": "Python 3 (ipykernel)",
   "language": "python",
   "name": "python3"
  },
  "language_info": {
   "codemirror_mode": {
    "name": "ipython",
    "version": 3
   },
   "file_extension": ".py",
   "mimetype": "text/x-python",
   "name": "python",
   "nbconvert_exporter": "python",
   "pygments_lexer": "ipython3",
   "version": "3.11.5"
  }
 },
 "nbformat": 4,
 "nbformat_minor": 5
}
