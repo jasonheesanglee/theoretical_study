{
 "cells": [
  {
   "cell_type": "markdown",
   "id": "9ae57265-b20f-4bf6-89f8-d346d0e5abec",
   "metadata": {},
   "source": [
    "# 1-10 연습문제\n",
    "1. 다음 식의 절댓값을 구하시오. <br>\n",
    "   (1) $|-2|$ <br>\n",
    "   (2) $|-\\frac{3}{2}|$ <br>\n",
    "   (3) $x<3$일 때 $|x-3|$ <br>\n",
    "   (4) $x>3$일 때 $|x-3|$ <br>\n",
    "   (5) $a<b$일 때 $|a-b|$ <br><br>\n",
    "3. 다음 두 점 사이의 유클리드 거리를 구하시오 (단, 문제(1)은 1차원, 문제(2)는 2차원, 문제(3)은 3차원상의 점)<br>\n",
    "   (1) A(3), B(-2) <br>\n",
    "   (2) A(2, -2), B(-3, 1) <br>\n",
    "   (3) A(1, 3, -1), B(-1, 0, 1) <br>"
   ]
  },
  {
   "cell_type": "markdown",
   "id": "4ca88fd3-6132-49af-80a7-5145f4bbd6ed",
   "metadata": {},
   "source": [
    "# My Answer\n",
    "1-1. 2 <br>\n",
    "1-2. $\\frac{3}{2}$ <br>\n",
    "1-3. $3-x$ <br>\n",
    "1-4. $x-3$ <br>\n",
    "1-5. $b-a$ <br><br>\n",
    "2-1. 5 <br>\n",
    "2-2. $\\sqrt{34}$<br>\n",
    "2-3. $\\sqrt{17}$ <br>"
   ]
  }
 ],
 "metadata": {
  "kernelspec": {
   "display_name": "Python 3 (ipykernel)",
   "language": "python",
   "name": "python3"
  },
  "language_info": {
   "codemirror_mode": {
    "name": "ipython",
    "version": 3
   },
   "file_extension": ".py",
   "mimetype": "text/x-python",
   "name": "python",
   "nbconvert_exporter": "python",
   "pygments_lexer": "ipython3",
   "version": "3.11.5"
  }
 },
 "nbformat": 4,
 "nbformat_minor": 5
}
