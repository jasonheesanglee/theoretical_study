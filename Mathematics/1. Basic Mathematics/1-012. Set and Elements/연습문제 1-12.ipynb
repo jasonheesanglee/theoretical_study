{
 "cells": [
  {
   "cell_type": "markdown",
   "id": "26d8938f-30fa-4f79-934b-b8f62807c015",
   "metadata": {},
   "source": [
    "# 연습문제 1-12\n",
    "1. 다음 집합을 원소를 나열하는 방식으로 표현하시오. <br>\n",
    "   1-1. $\\{x|x^2 = 9\\}$ <br>\n",
    "   1-2. $\\{x|x$는 12의 양의 약수$\\}$ <br>\n",
    "2. 집합 $A={1, 2, 3, 4, 5, 6}$과 집합 $B={4, 5, 6, 7, 8, 9}$가 있다고 가정합니다.<br>다음 집합을 구하시오.<br>\n",
    "   2-1. $A\\cap B$<br>\n",
    "   2-2. $A\\cup B$"
   ]
  },
  {
   "cell_type": "markdown",
   "id": "a5f92a57-5fbb-4332-acc6-5835502783d4",
   "metadata": {},
   "source": [
    "1-1. {-3, 3}<br>\n",
    "1-2. {1, 2, 3, 4, 6, 12}<br>\n",
    "2-1. {4, 5, 6}<br>\n",
    "2-2. {1, 2, 3, 4, 5, 6, 7, 8, 9}"
   ]
  }
 ],
 "metadata": {
  "kernelspec": {
   "display_name": "Python 3 (ipykernel)",
   "language": "python",
   "name": "python3"
  },
  "language_info": {
   "codemirror_mode": {
    "name": "ipython",
    "version": 3
   },
   "file_extension": ".py",
   "mimetype": "text/x-python",
   "name": "python",
   "nbconvert_exporter": "python",
   "pygments_lexer": "ipython3",
   "version": "3.11.5"
  }
 },
 "nbformat": 4,
 "nbformat_minor": 5
}
