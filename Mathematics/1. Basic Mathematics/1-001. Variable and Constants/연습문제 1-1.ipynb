{
 "cells": [
  {
   "cell_type": "markdown",
   "id": "5cb713d7-a321-4751-8183-625473cd91c8",
   "metadata": {},
   "source": [
    "# 연습문제 1-1.\n",
    "세로의 길이가 ***a***cm이고 가로의 길이가 ***b***cm인 사각형이 있다고 가정합시다.<br>\n",
    "이때, 사각형의 면적 ***S***cm<sup>2</sup>는 ***S*** = ***ab***와 같이 표현할 수 있습니다.<br>\n",
    "만약 세로의 길이는 그대로 두고, 가로의 길이만 바꿔가면서 사각형의 면적이 어떻게 변화하는지 알아보고 싶다면, a와 b중 어떤 것이 변수이고 어떤 것이 상수일까요?"
   ]
  },
  {
   "cell_type": "markdown",
   "id": "92fc474d-645a-4e6a-b218-8e59aacf21bc",
   "metadata": {},
   "source": [
    "# My Answer\n",
    "변수 = b<br>\n",
    "상수 = a"
   ]
  }
 ],
 "metadata": {
  "kernelspec": {
   "display_name": "Python 3 (ipykernel)",
   "language": "python",
   "name": "python3"
  },
  "language_info": {
   "codemirror_mode": {
    "name": "ipython",
    "version": 3
   },
   "file_extension": ".py",
   "mimetype": "text/x-python",
   "name": "python",
   "nbconvert_exporter": "python",
   "pygments_lexer": "ipython3",
   "version": "3.11.5"
  }
 },
 "nbformat": 4,
 "nbformat_minor": 5
}
