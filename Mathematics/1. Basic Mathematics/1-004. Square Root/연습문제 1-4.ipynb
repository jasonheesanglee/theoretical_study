{
 "cells": [
  {
   "cell_type": "markdown",
   "id": "09775cbb-3639-4dfa-9028-4f8a4807f1af",
   "metadata": {},
   "source": [
    "# 연습문제 1-4\n",
    "다음 문제에 답하시오.<br>\n",
    "1. 9의 제곱근을 구하시오.<br>\n",
    "2. 다음 문제를 계산하시오. 단, 근호안의 숫자가 최소가 되도록 표현하시오.<br>\n",
    "2-1. $\\sqrt{18}$ + $\\sqrt{2}$ <br>\n",
    "2-2. 3$\\sqrt{6}$ x 2$\\sqrt{2}$ <br>\n",
    "   "
   ]
  },
  {
   "cell_type": "markdown",
   "id": "2aca3e02-4780-4760-ba9d-35f89a8731a1",
   "metadata": {},
   "source": [
    "# My Answer\n",
    "\n",
    "1. 3, -3\n",
    "2. \\\n",
    "   2-1. 4$\\sqrt2$<br>\n",
    "   2-2. 12$\\sqrt3$<br>"
   ]
  },
  {
   "cell_type": "code",
   "execution_count": null,
   "id": "0317cc9c-3bc0-4958-a507-8b0fa1393907",
   "metadata": {},
   "outputs": [],
   "source": []
  }
 ],
 "metadata": {
  "kernelspec": {
   "display_name": "Python 3 (ipykernel)",
   "language": "python",
   "name": "python3"
  },
  "language_info": {
   "codemirror_mode": {
    "name": "ipython",
    "version": 3
   },
   "file_extension": ".py",
   "mimetype": "text/x-python",
   "name": "python",
   "nbconvert_exporter": "python",
   "pygments_lexer": "ipython3",
   "version": "3.11.5"
  }
 },
 "nbformat": 4,
 "nbformat_minor": 5
}
