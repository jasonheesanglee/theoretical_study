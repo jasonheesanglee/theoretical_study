{
 "cells": [
  {
   "cell_type": "markdown",
   "id": "a449d287-2e96-4ac1-af12-8796e9c0fe3a",
   "metadata": {},
   "source": [
    "# 1-9 연습문제\n",
    "1. 도수법으로 표현된 각의 크기를 호도법으로 표현하시오. <br>\n",
    "   1-1. $90°$ <br>\n",
    "   1-2. $60°$ <br>\n",
    "   1-3. $240°$ <br>\n",
    "   1-4. $327°$ <br><br>\n",
    "2. $θ$의 값이 다음과 같을 때, $sinθ$, $cosθ$, $tanθ$의 값을 구하시오.<br>\n",
    "   2-1. $\\frac{1}{6}π$<br>\n",
    "   2-2. $\\frac{3}{4}π$<br>\n",
    "   2-3. $\\frac{4}{3}π$<br>\n",
    "   2-4. $\\frac{13}{4}π$<br><br>\n",
    "3. $sinθ=\\frac{1}{3}$일 때, $cosθ$, $tanθ$의 값을 구하시오. (단, $0 \\le θ \\le \\frac{1}{2}π$)<br>"
   ]
  },
  {
   "cell_type": "markdown",
   "id": "ca558fed-9db5-4c10-8891-1daa3f67ec06",
   "metadata": {},
   "source": [
    "# My Answer\n",
    "\n",
    "1-1. $\\frac{1}{2}π$<br>\n",
    "1-2. $\\frac{1}{3}π$<br>\n",
    "1-3. $\\frac{4}{3}π$<br>\n",
    "1-4. $\\frac{109}{60}π$<br><br>\n",
    "2-1. $sinθ = \\frac{1}{2}$, $cosθ = \\frac{\\sqrt{3}}{2}$, $tanθ = \\frac{\\sqrt{3}}{3}$ or $\\frac{1}{\\sqrt{3}}$ <br>\n",
    "2-2. $sinθ = \\frac{\\sqrt{2}}{2}$, $cosθ = -\\frac{\\sqrt{2}}{2}$, $tanθ = 1$ <br>\n",
    "2-3. $sinθ = -\\frac{\\sqrt{3}}{2}$, $cosθ = -\\frac{1}{2}$, $tanθ = \\sqrt{3}$ <br>\n",
    "2-3. $sinθ = -\\frac{\\sqrt{2}}{2}$, $cosθ = -\\frac{2}{2}$, $tanθ = 1$ <br><br>\n",
    "3. $cosθ = \\frac{2\\sqrt{2}}{3}$, $tanθ = \\frac{\\sqrt{2}}{4}$"
   ]
  },
  {
   "cell_type": "code",
   "execution_count": null,
   "id": "3a6d108f-bb1f-43b0-9bf9-4713451655a6",
   "metadata": {},
   "outputs": [],
   "source": []
  }
 ],
 "metadata": {
  "kernelspec": {
   "display_name": "Python 3 (ipykernel)",
   "language": "python",
   "name": "python3"
  },
  "language_info": {
   "codemirror_mode": {
    "name": "ipython",
    "version": 3
   },
   "file_extension": ".py",
   "mimetype": "text/x-python",
   "name": "python",
   "nbconvert_exporter": "python",
   "pygments_lexer": "ipython3",
   "version": "3.11.5"
  }
 },
 "nbformat": 4,
 "nbformat_minor": 5
}
