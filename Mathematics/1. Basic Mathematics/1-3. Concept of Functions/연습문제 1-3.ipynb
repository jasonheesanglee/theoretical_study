{
 "cells": [
  {
   "cell_type": "markdown",
   "id": "0d37f371-7a72-4738-8b31-90e9048da253",
   "metadata": {},
   "source": [
    "# 연습문제 1-3\n",
    "다음 중 y가 x의 함수인 것을 모두 고르시오<br>\n",
    "a. 어떤 수 x의 정수 부분 y<br>\n",
    "b. 나이가 x살인 사람의 몸무게 y킬로그램<br>\n",
    "c. 어떤 정수 x의 양의 약수 개수 y"
   ]
  },
  {
   "cell_type": "markdown",
   "id": "d97e5ab9-b450-4577-a3c9-25a8bc7918f2",
   "metadata": {},
   "source": [
    "# My Answer\n",
    "***a*** -> 출력값이 확정적임<br>\n",
    "~~b~~ -> 출력값이 x와는 관계가 없음<br>\n",
    "***c*** -> 출력값이 확정적임"
   ]
  },
  {
   "cell_type": "code",
   "execution_count": null,
   "id": "f79f8dfe-225b-4c11-8a53-9bf9ede08feb",
   "metadata": {},
   "outputs": [],
   "source": []
  }
 ],
 "metadata": {
  "kernelspec": {
   "display_name": "Python 3 (ipykernel)",
   "language": "python",
   "name": "python3"
  },
  "language_info": {
   "codemirror_mode": {
    "name": "ipython",
    "version": 3
   },
   "file_extension": ".py",
   "mimetype": "text/x-python",
   "name": "python",
   "nbconvert_exporter": "python",
   "pygments_lexer": "ipython3",
   "version": "3.11.5"
  }
 },
 "nbformat": 4,
 "nbformat_minor": 5
}
