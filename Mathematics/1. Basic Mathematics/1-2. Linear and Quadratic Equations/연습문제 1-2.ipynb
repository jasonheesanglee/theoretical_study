{
 "cells": [
  {
   "cell_type": "markdown",
   "id": "070bab9e-f8aa-4e18-ac56-785d2f15d681",
   "metadata": {},
   "source": [
    "# 연습문제 1-2\n",
    "다음 문제에 답하시오.\n",
    "1. 다음 식이 단항식인지, 다항식인지 답하고 계수들을 열거하시오.<br>\n",
    "변수가 ***a***, ***b***, ***x***라고 가정할 때, 이 식의 차수를 답하시오.<br>\n",
    "1-1. *-3ab*<br>\n",
    "1-2. *2ab + b + 4*<br>\n",
    "1-3. *3x<sup>2</sup> + 4*<br>\n",
    "\n",
    "2. 다음 식은 x에 대한 2차식입니다. 모든 계수를 열거하시오.<br>\n",
    "*3ax<sup>2</sup> + x + 2ab*"
   ]
  },
  {
   "cell_type": "markdown",
   "id": "cfd77979-5c69-416f-b2e4-7719de15afee",
   "metadata": {},
   "source": [
    "# My answer\n",
    "1-1. 계수 -> -3, 차수 -> 2<br>\n",
    "1-2. 계수 -> 2, 1, 4, 차수 -> 2<br>\n",
    "1-3. 계수 -> 3, 4, 차수 -> 2<br>\n",
    "<br>\n",
    "2. 계수 -> 3a, 1, 2ab"
   ]
  },
  {
   "cell_type": "markdown",
   "id": "579a904f-94bc-4eda-a788-c6d1004a8433",
   "metadata": {},
   "source": []
  }
 ],
 "metadata": {
  "kernelspec": {
   "display_name": "Python 3 (ipykernel)",
   "language": "python",
   "name": "python3"
  },
  "language_info": {
   "codemirror_mode": {
    "name": "ipython",
    "version": 3
   },
   "file_extension": ".py",
   "mimetype": "text/x-python",
   "name": "python",
   "nbconvert_exporter": "python",
   "pygments_lexer": "ipython3",
   "version": "3.11.5"
  }
 },
 "nbformat": 4,
 "nbformat_minor": 5
}
