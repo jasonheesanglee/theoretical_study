{
 "cells": [
  {
   "cell_type": "markdown",
   "id": "070bab9e-f8aa-4e18-ac56-785d2f15d681",
   "metadata": {},
   "source": [
    "# 연습문제 1-2\n",
    "다음 문제에 답하시오.\n",
    "1. 다음 식이 단항식인지, 다항식인지 답하고 계수들을 열거하시오.<br>\n",
    "변수가 ***a***, ***b***, ***x***라고 가정할 때, 이 식의 차수를 답하시오.<br>\n",
    "1-1. *-3ab*<br>\n",
    "1-2. *2ab + b + 4*<br>\n",
    "1-3. *3x<sup>2</sup> + 4*<br>"
   ]
  },
  {
   "cell_type": "code",
   "execution_count": null,
   "id": "de310946-630d-4f4c-8a02-b366dfbbb0e0",
   "metadata": {},
   "outputs": [],
   "source": []
  }
 ],
 "metadata": {
  "kernelspec": {
   "display_name": "Python 3 (ipykernel)",
   "language": "python",
   "name": "python3"
  },
  "language_info": {
   "codemirror_mode": {
    "name": "ipython",
    "version": 3
   },
   "file_extension": ".py",
   "mimetype": "text/x-python",
   "name": "python",
   "nbconvert_exporter": "python",
   "pygments_lexer": "ipython3",
   "version": "3.11.5"
  }
 },
 "nbformat": 4,
 "nbformat_minor": 5
}
