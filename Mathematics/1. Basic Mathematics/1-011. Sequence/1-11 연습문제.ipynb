{
 "cells": [
  {
   "cell_type": "markdown",
   "id": "1abf182c-be46-428d-8cfc-a68a925ba9ee",
   "metadata": {},
   "source": [
    "# 1-11 연습문제\n",
    "다음 문제에 답하시오.\n",
    "1. 등차수열 '1, 3, 5, 7, 9'의 일반항을 구하시오.\n",
    "2. 초항이 2, 공차가 -2, 항의 개수가 10인 등차수열의 합을 구하시오.\n",
    "3. 등비수열 '3, 9, 27, 81, 243'의 일반항을 구하시오.\n",
    "4. 초항이 2, 공비가 2, 항의 개수가 6인 등비수열의 합을 구하시오.\n",
    "5. $\\sum_{k=1}^{n} (2k^2 + k + 1)$을 구하시오."
   ]
  },
  {
   "cell_type": "markdown",
   "id": "ba0bf5d4-52ed-4435-abbb-a407f67af981",
   "metadata": {},
   "source": [
    "1. $2n-1$\n",
    "2. $-70$\n",
    "3. $3^{n}$\n",
    "4. 126\n",
    "5. $\\sum_{k=1}^{n} (2k^2 + k + 1)$ <br>\n",
    "   $=$ $\\sum_{k=1}^{n}{2k^2} + \\sum_{k=1}^{n} (k) + \\sum_{k=1}^{n} (1)$ <br>\n",
    "   $=$ $(2 \\times \\frac{1}{6} \\times (n) \\times (n+1) \\times (2n+1) )+ \\frac{1}{2}(n\\times(n+1)) + n$ <br>\n",
    "   $=$ $\\frac{1}{3}(2n^3 + 3n^2 + n)+ \\frac{1}{2}(n^2+n) + n$ <br>\n",
    "   $=$ $\\frac{2}{3}n^3 + n^2 + \\frac{1}{2}n^2 + \\frac{1}{3}n + \\frac{1}{2}n + n$ <br>\n",
    "   $=$ $\\frac{2}{3}n^3 + \\frac{3}{2}n^2 + \\frac{11}{6}n$"
   ]
  },
  {
   "cell_type": "code",
   "execution_count": null,
   "id": "2fd057dc-6e30-4f6d-922f-af0f816d48e6",
   "metadata": {},
   "outputs": [],
   "source": []
  }
 ],
 "metadata": {
  "kernelspec": {
   "display_name": "Python 3 (ipykernel)",
   "language": "python",
   "name": "python3"
  },
  "language_info": {
   "codemirror_mode": {
    "name": "ipython",
    "version": 3
   },
   "file_extension": ".py",
   "mimetype": "text/x-python",
   "name": "python",
   "nbconvert_exporter": "python",
   "pygments_lexer": "ipython3",
   "version": "3.11.5"
  }
 },
 "nbformat": 4,
 "nbformat_minor": 5
}
