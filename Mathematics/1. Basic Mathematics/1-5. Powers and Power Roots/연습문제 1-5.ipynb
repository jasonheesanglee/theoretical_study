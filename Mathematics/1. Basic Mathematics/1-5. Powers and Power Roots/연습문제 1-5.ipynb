{
 "cells": [
  {
   "cell_type": "markdown",
   "id": "bf19ffbc-f7d5-4b8c-b241-a13c5ce4af8a",
   "metadata": {},
   "source": [
    "# 연습문제 1-5\n",
    "다음 문제를 계산하시오. 단, 근호 안의 숫자가 최소가 되도록 표현하시오.\n",
    "1. 4<sup>4</sup> x 2<sup>-1</sup> $\\div$ 2<sup>2</sup>\n",
    "2. $^3\\sqrt81$ $\\times$ $^3\\sqrt9$\n",
    "3. $^3\\sqrt{\\sqrt64}$"
   ]
  },
  {
   "cell_type": "markdown",
   "id": "742eb7ec-43d9-4d04-8155-4f4f810ecc91",
   "metadata": {},
   "source": [
    "# My Answer\n",
    "\n",
    "1. 4<sup>4</sup> $\\times$ 2<sup>-1</sup> $\\div$ 2<sup>2</sup> <br>\n",
    "   $=$ 2<sup>8-1</sup> $\\div$ 2<sup>2</sup> <br>\n",
    "   $=$ 2<sup>7-2</sup> <br>\n",
    "   $=$ 32 <br><br>\n",
    "2. $^3\\sqrt{3^4}$ $\\times$ $^3\\sqrt{3^2}$ <br>\n",
    "   $=$ $3^{\\frac{4}{3}}$ $\\times$ $3^{\\frac{2}{3}}$ <br>\n",
    "   $=$ $3^{\\frac{6}{3}}$ <br>\n",
    "   $=$ $3^2$ <br>\n",
    "   $=$ 9 <br><br>\n",
    "\n",
    "3. $3\\sqrt{\\sqrt{2^6}}$ <br>\n",
    "   $=$ $3\\sqrt{8}$ <br>\n",
    "   $=$ $3\\sqrt{2^3}$ <br>\n",
    "   $=$ 2"
   ]
  }
 ],
 "metadata": {
  "kernelspec": {
   "display_name": "Python 3 (ipykernel)",
   "language": "python",
   "name": "python3"
  },
  "language_info": {
   "codemirror_mode": {
    "name": "ipython",
    "version": 3
   },
   "file_extension": ".py",
   "mimetype": "text/x-python",
   "name": "python",
   "nbconvert_exporter": "python",
   "pygments_lexer": "ipython3",
   "version": "3.11.5"
  }
 },
 "nbformat": 4,
 "nbformat_minor": 5
}
