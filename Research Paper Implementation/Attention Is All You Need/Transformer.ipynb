{
 "cells": [
  {
   "cell_type": "code",
   "execution_count": 2,
   "id": "66391665-8d20-4a72-9b43-e84d4c32caf8",
   "metadata": {},
   "outputs": [],
   "source": [
    "import numpy as np"
   ]
  },
  {
   "cell_type": "markdown",
   "id": "15b794b3-dacf-4427-a669-bd91ef4474eb",
   "metadata": {},
   "source": [
    "# 3.1 Encoder and Decoder Stacks\n",
    "Implemented only based on chapter 3.1"
   ]
  },
  {
   "cell_type": "markdown",
   "id": "2f2a3ac8-da26-446d-b759-7a3c49e5dad6",
   "metadata": {},
   "source": [
    "## 3.1.1 Encoder"
   ]
  },
  {
   "cell_type": "code",
   "execution_count": 87,
   "id": "0850ff76-25ac-47f3-b9bc-b4da6e867b60",
   "metadata": {},
   "outputs": [],
   "source": [
    "class Encoder:\n",
    "    '''\n",
    "    Composed of 6 stack of identical layers\n",
    "    Each layer has two sub-layers\n",
    "    \n",
    "    First layer : Multi-Head Self-Attention Mechanism\n",
    "    Second layer : Position-wise fully connected Feed-Forward Network.\n",
    "\n",
    "    Residual Connection around each two sub-layer is employed, followed by layer normalization.\n",
    "    The output of each sub-layer is LayerNorm (x+ Sublayer(x)) where Sublayer(x) is the function implemented by the sub-layer itself.\n",
    "\n",
    "    To facilitate these residual connections, all sub-layers in the model (including embedding layer)\n",
    "    produces outputs of dimension d_model = 512\n",
    "    '''\n",
    "    def __init__(self, vocab_size, d_model=512):\n",
    "        self.d_model = d_model\n",
    "        self.embed = Embed(vocab_size, d_model)\n",
    "        self.positional_encoding = PositionalEncoding(d_model)\n",
    "        self.multihead = MultiHead(d_model)\n",
    "        self.feedforward = FeedForward(d_model) \n",
    "        self.layer_norm  = LayerNormalization(d_model)\n",
    "\n",
    "    def normalized(self, output): ### Not yet described, described in ???\n",
    "        normalized_output = LayerNormalization().run(output) # will be defined later on.\n",
    "        return normalized_output \n",
    "        \n",
    "    def add_norm(self, input, layer_output):\n",
    "        # in ma_layer, input will be positional_encoded_embedding\n",
    "        # in ff_layer, input will be the output of ma_layer\n",
    "        return self.layer_norm.run(input + layer_output)\n",
    "        \n",
    "    def mh_layer(self, input):\n",
    "        multihead_attentioned = self.multihead.run(input, input, input)\n",
    "        normalized_ouptut = self.add_norm(input, multihead_attentioned)\n",
    "        return normalized_ouptut\n",
    "        \n",
    "    def ff_layer(self, mh_layer_output):\n",
    "        feed_forwarded = self.feedforward.run(mh_layer_output)\n",
    "        layer_norm_ouptut = self.add_norm(mh_layer_output, feed_forwarded)\n",
    "        return layer_norm_ouptut\n",
    "        \n",
    "    def run(self, input_tokens):\n",
    "        embedded_input = self.embed.token_to_embedding(input_tokens)\n",
    "        positional_encoded_embedding = self.positional_encoding.run(embedded_input)\n",
    "        output = positional_encoded_embedding\n",
    "        for _ in range(6):\n",
    "            ma_layer_output = self.mh_layer(output)\n",
    "            ff_layer_output = self.ff_layer(ma_layer_output)\n",
    "            output = ff_layer_output\n",
    "        return output"
   ]
  },
  {
   "cell_type": "markdown",
   "id": "a3dbf922-dc56-4d3c-a3f8-9812e0cae169",
   "metadata": {},
   "source": [
    "## 3.1.2 Decoder"
   ]
  },
  {
   "cell_type": "code",
   "execution_count": 118,
   "id": "839a6eea-4f3e-4382-bc6c-21d324d7a229",
   "metadata": {},
   "outputs": [],
   "source": [
    "class Decoder:        \n",
    "    '''\n",
    "    Composed of 6 stack of identical layers.\n",
    "    Each layer has three sub-layers.\n",
    "\n",
    "    First layer : Masked Multi-Head Self-Attention Mechanism\n",
    "    Second layer : Multi-Head Self-Attention Mechanism\n",
    "    Third layer : Position-wise fully connected Feed-Forward Network.\n",
    "\n",
    "    Residual Connection around each two sub-layer is employed, followed by layer normalization.\n",
    "    The output of each sub-layer is LayerNorm (x+ Sublayer(x)) where Sublayer(x) is the function implemented by the sub-layer itself.\n",
    "\n",
    "    To facilitate these residual connections, all sub-layers in the model (including embedding layer)\n",
    "    produces outputs of dimension d_model = 512\n",
    "    '''\n",
    "    def __init__(self, vocab_size, d_model=512):\n",
    "        self.d_model = d_model\n",
    "        self.embed = Embed(vocab_size, d_model)\n",
    "        self.positional_encoding = PositionalEncoding(d_model)\n",
    "        self.multihead = MultiHead(d_model)\n",
    "        self.feedforward = FeedForward(d_model) \n",
    "        self.layer_norm = LayerNormalization(d_model)\n",
    "        \n",
    "    def add_norm(self, input, layer_output): ### Not yet described, described in ???\n",
    "        # in ma_layer, input will be positional_encoded_embedding\n",
    "        # in ff_layer, input will be the output of ma_layer\n",
    "        return self.layer_norm.run(input + layer_output)\n",
    "        \n",
    "    def masked_mh_layer(self, input, look_ahead_mask):\n",
    "        masked_mh = self.multihead.run(input, input, input, look_ahead_mask)\n",
    "        normalized_output = self.add_norm(input, masked_mh)\n",
    "        return normalized_output\n",
    "    \n",
    "    def mh_layer(self, masked_mh_layer_output, encoder_output):\n",
    "        multihead_attentioned = self.multihead.run(masked_mh_layer_output, encoder_output, encoder_output)\n",
    "        normalized_ouptut = self.add_norm(masked_mh_layer_output, multihead_attentioned)\n",
    "        return normalized_ouptut\n",
    "        \n",
    "    def ff_layer(self, mh_layer_output):\n",
    "        feed_forwarded = self.feedforward.run(mh_layer_output)\n",
    "        normalized_ouptut = self.add_norm(mh_layer_output, feed_forwarded)\n",
    "        return normalized_ouptut\n",
    "\n",
    "    def run(self, input_tokens, encoder_output):\n",
    "        size = len(input_tokens)\n",
    "        look_ahead_mask = create_look_ahead_mask(size)\n",
    "        \n",
    "        embedded_input = self.embed.token_to_embedding(input_tokens)\n",
    "        positional_encoded_embedding = self.positional_encoding.run(embedded_input)\n",
    "        \n",
    "        for _ in range(6):\n",
    "            layer_normed_masked_mh_output = self.masked_mh_layer(positional_encoded_embedding, look_ahead_mask)\n",
    "            mh_layer_output = self.mh_layer(layer_normed_masked_mh_output, encoder_output)\n",
    "            ff_layer_output = self.ff_layer(mh_layer_output)\n",
    "            positional_encoded_embedding = ff_layer_output\n",
    "        return positional_encoded_embedding\n",
    "\n"
   ]
  },
  {
   "cell_type": "markdown",
   "id": "8551092c-265d-4a66-98fc-3740561cce68",
   "metadata": {},
   "source": [
    "# 3.2 Attention\n",
    "## 3.2.1 Scaled Dot-Product Attention"
   ]
  },
  {
   "cell_type": "code",
   "execution_count": 137,
   "id": "c894c105-22a1-4c42-89d9-0cbe18c5da04",
   "metadata": {},
   "outputs": [],
   "source": [
    "class ScaledDotProductAttention:\n",
    "    '''\n",
    "    Input consists of queries and keys of dimension d_k, and values of dimension d_v\n",
    "    compute the dot products of the query with all keys, divide each by $\\sqrt {d_k}$,\n",
    "    and apply a softmax function to obtain the weights on the values.\n",
    "\n",
    "    In practice, we compute the attention function on a set of queries simultaneously, packed together into matrix Q.\n",
    "    The key in matrix K, the value in matrix V.\n",
    "    '''\n",
    "    def __init__(self):\n",
    "        pass\n",
    "\n",
    "    def softmax(self, matrix):\n",
    "        e_x = np.exp(matrix - np.max(matrix, axis=-1, keepdims=True))\n",
    "        return e_x / e_x.sum(axis=-1, keepdims=True)\n",
    "    \n",
    "    def run(self, Q, K, V, mask=None):\n",
    "        matmul_qk = np.matmul(Q, K.T)/np.sqrt(K.shape[1])\n",
    "        if mask is not None: # added this part after 3.6.2\n",
    "            matmul_qk += (mask * -1e9)\n",
    "        softmaxed = self.softmax(matmul_qk)\n",
    "        result = np.matmul(softmaxed, V)\n",
    "        return result"
   ]
  },
  {
   "cell_type": "markdown",
   "id": "4e4bb07f-7cea-4636-b6b5-76c019c7ff95",
   "metadata": {},
   "source": [
    "## 3.2.2 Multi-Head Attention"
   ]
  },
  {
   "cell_type": "code",
   "execution_count": 138,
   "id": "7536c995-b4d8-46f3-adf7-dfca0cae7f66",
   "metadata": {},
   "outputs": [],
   "source": [
    "class MultiHead:\n",
    "    '''\n",
    "    Instead of performing a single attention function with dmodel-dimensional keys, values and queries,\n",
    "    we found it beneficial to linearly project the queries, keys and values h times \n",
    "    with different, learned linear projections to dk, dk and dv dimensions, respectively.\n",
    "    On each of these projected versions of queries, keys and values\n",
    "    we then perform the attention function in parallel, yielding dv-dimensional output values.\n",
    "    \n",
    "    These are concatenated and once again projected, resulting in the final values, as depicted in Figure 2.\n",
    "    Multi-head attention allows the model to jointly attend to information from different representation subspaces at different positions.\n",
    "    With a single attention head, averaging inhibits this.\n",
    "\n",
    "    Figure 2 : \n",
    "    $ MultiHead(Q, K, V ) = Concat(head_1, ..., head_h)W^{O}$\n",
    "    $where head_i = Attention(QW_i^Q, KW_i^K, VW_i^V)$ ######### = ScaledDotProductAttention()\n",
    "\n",
    "    Where the projections are parameter matrices \n",
    "    $W_i^Q ∈ R^{d_{model}\\times d_k }, W_i^K ∈ R^{d_{model}\\timesd_k}, W_i^V ∈ R^{d_{model} \\times d_v} and WO ∈ R^{hd_v \\times d_{model}}$.\n",
    "\n",
    "    In this work we employ $h = 8$ parallel attention layers, or heads. \n",
    "    For each of these we use $d_k = d_v = d_{model}/h = 64$.\n",
    "    Due to the reduced dimension of each head, the total computational cost is similar to\n",
    "    that of single-head attention with full dimensionality.\n",
    "\n",
    "    '''\n",
    "    def __init__(self, d_model=512, num_heads=8):\n",
    "        '''\n",
    "        d_model = dimension of input vector\n",
    "        num_heads = number of attention heads to use / h = 8 as per the paper\n",
    "        '''\n",
    "        self.d_model = d_model\n",
    "        self.num_heads = num_heads\n",
    "        self.depth = d_model // num_heads\n",
    "        '''\n",
    "        Calculates the dimension of each head.\n",
    "        It divides the dimension of the model by the number of heads.\n",
    "        To ensure the input is evenly split across the heads.\n",
    "        '''\n",
    "        \n",
    "        self.wq = [np.random.randn(d_model, self.depth) for _ in range(num_heads)]\n",
    "        self.wk = [np.random.randn(d_model, self.depth) for _ in range(num_heads)]\n",
    "        self.wv = [np.random.randn(d_model, self.depth) for _ in range(num_heads)]\n",
    "        '''\n",
    "        Initializes the matrix randomly with np.random.randn, generates a sample from a Gaussian distribution.\n",
    "        It repeats for num_heads (8 here) times.\n",
    "        The dimension of this matrix is (d_model, self.depth)\n",
    "        '''\n",
    "        self.wo = np.random.randn(d_model, d_model)\n",
    "        '''\n",
    "        Initializes the WO matrix randomly with np.random.randn, generates a sample from a Gaussian distribution.\n",
    "        '''\n",
    "\n",
    "        self.attention = ScaledDotProductAttention() # Attention\n",
    "\n",
    "    def run(self, Q, K, V, mask=None):\n",
    "        heads = []\n",
    "        for i in range(self.num_heads):\n",
    "            # split and apply attention to each head\n",
    "            dot_Q = np.dot(Q, self.wq[i])\n",
    "            dot_K = np.dot(K, self.wk[i])\n",
    "            dot_V = np.dot(V, self.wv[i])\n",
    "            heads.append(self.attention.run(dot_Q, dot_K, dot_V, mask))\n",
    "\n",
    "        # concatenate and apply final linear layer\n",
    "        concatenated = np.concatenate(heads, axis=-1)\n",
    "        return np.dot(concatenated, self.wo)\n",
    "    "
   ]
  },
  {
   "cell_type": "markdown",
   "id": "db660446-01d7-47ed-9cbd-1c9a2b2f450b",
   "metadata": {},
   "source": [
    "# 3.3 Position-wise Feed-Forward Networks."
   ]
  },
  {
   "cell_type": "code",
   "execution_count": 139,
   "id": "3167368c-41b1-4a15-a450-0d44516f0edd",
   "metadata": {},
   "outputs": [],
   "source": [
    "class FeedForward:\n",
    "    '''\n",
    "    In addition to attention sub-layers, each of the layers in our encoder and decoder contains\n",
    "    a fully connected feed-forward network, which is applied to each position separately and identically.\n",
    "    This consists of two linear transformations with a ReLU activation in between.\n",
    "    $FFN(x) = max(0, xW_1 + b_1)W_2 + b_2 $\n",
    "    While the linear transformations are the same across different positions, they use different parameters from layer to layer.\n",
    "    Another way of describing this is as two convolutions with kernel size 1.\n",
    "    The dimensionality of input and output is $d_model = 512$, and the inner-layer has dimensionality$d_{ff} = 2048$.\n",
    "    '''\n",
    "    def __init__(self, d_model=512, d_ff=2048):\n",
    "        # weight\n",
    "        self.W1 = np.random.randn(d_model, d_ff) # transform input vector from d_model to d_ff\n",
    "        self.W2 = np.random.randn(d_ff, d_model) # transform the transformed vector back to the dimension of d_model\n",
    "\n",
    "        # bias \n",
    "        self.b1 = np.zeros(d_ff) # bias_1 = size of d_ff\n",
    "        self.b2 = np.zeros(d_model) # bias_2 = size of d_model\n",
    "\n",
    "    def relu(self, x):\n",
    "        return np.maximum(0, x)\n",
    "        \n",
    "    def run(self, mh_output):\n",
    "        w1_b1 = self.relu(np.dot(mh_output, self.W1) + self.b1) # First linear transformation\n",
    "        output = np.dot(w1_b1, self.W2) + self.b2 # Second linear transformation\n",
    "        return output"
   ]
  },
  {
   "cell_type": "markdown",
   "id": "d8782802-a5f1-44b7-8d63-6f808e5fe485",
   "metadata": {},
   "source": [
    "# 3.4 Embeddings and Softmax"
   ]
  },
  {
   "cell_type": "code",
   "execution_count": 152,
   "id": "93470dd5-b920-45af-a195-9de8255e390f",
   "metadata": {},
   "outputs": [],
   "source": [
    "class Embed:\n",
    "    def __init__(self, vocab_size, d_model):\n",
    "        self.vocab_size = vocab_size\n",
    "        self.d_model = d_model\n",
    "        self.weight = np.random.randn(vocab_size, d_model) * (1/np.sqrt(d_model))\n",
    "\n",
    "    def token_to_embedding(self, token_ids):\n",
    "        embeddings = self.weight[token_ids] * np.sqrt(self.d_model)\n",
    "        return embeddings\n",
    "\n",
    "    def output_to_probabilities(self, decoder_output):\n",
    "        logits = decoder_output @ self.weight.T # Linear Transformation\n",
    "        probabilities = self.softmax(logits) # Softmax\n",
    "        return probabilities\n",
    "        \n",
    "    def softmax(self, logits):\n",
    "        e_x = np.exp(logits - np.max(logits, axis=-1, keepdims=True))\n",
    "        return e_x / e_x.sum(axis=-1, keepdims=True)"
   ]
  },
  {
   "cell_type": "markdown",
   "id": "44a8d6ca-7bf3-4c45-b9e2-85199253836d",
   "metadata": {},
   "source": [
    "# 3.5 Positional Encoding"
   ]
  },
  {
   "cell_type": "code",
   "execution_count": 153,
   "id": "bc0e547a-13b5-40f7-aacd-47c2aa039a3c",
   "metadata": {},
   "outputs": [],
   "source": [
    "class PositionalEncoding:\n",
    "    def __init__ (self, d_model=512, max_len=512):\n",
    "        self.d_model = d_model\n",
    "        self.max_len = max_len\n",
    "        \n",
    "    def sin_wave(self, pos, i):\n",
    "        return np.sin(pos/10000 ** (2 * i / self.d_model))\n",
    "\n",
    "    def cos_wave(self, pos, i):\n",
    "        return np.cos(pos/10000 ** (2 * i / self.d_model))\n",
    "\n",
    "    def run(self, input):\n",
    "        seq_len = input.shape[0]\n",
    "        pos_encoding = np.zeros((seq_len, self.d_model))\n",
    "        for pos in range(seq_len):\n",
    "            for i in range(0, self.d_model, 2):\n",
    "                pos_encoding[pos, i] = self.sin_wave(pos, i)\n",
    "                if i + 1 < self.d_model:\n",
    "                    pos_encoding[pos, i + 1] = self.cos_wave(pos, i + 1)\n",
    "\n",
    "        # pos_encoding = pos_encoding[:seq_len, :]\n",
    "        return input + pos_encoding#[np.newaxis, :, :]"
   ]
  },
  {
   "cell_type": "markdown",
   "id": "848a905b-1a3c-4cf0-b775-53c8d52e439f",
   "metadata": {},
   "source": [
    "# 3.6 What can be added to complete the Transformer\n",
    "## 3.6.1 Layer Normalization"
   ]
  },
  {
   "cell_type": "code",
   "execution_count": 154,
   "id": "f44b5061-a804-41e6-95b1-ac18201ba9d2",
   "metadata": {},
   "outputs": [],
   "source": [
    "class LayerNormalization:\n",
    "    def __init__(self, d_model, epsilon=1e-6):\n",
    "        self.epsilon = epsilon\n",
    "        self.gamma = np.ones(d_model)\n",
    "        self.beta = np.zeros(d_model)\n",
    "\n",
    "    def run(self, x):\n",
    "        mean = np.mean(x, axis=-1, keepdims=True)\n",
    "        variance= np.var(x, axis=-1, keepdims=True)\n",
    "        normalized = (x - mean) / np.sqrt(variance + self.epsilon)\n",
    "        return self.gamma * normalized + self.beta"
   ]
  },
  {
   "cell_type": "markdown",
   "id": "17ae6762-7401-4b0e-b0f4-999e5615d5bd",
   "metadata": {},
   "source": [
    "## 3.6.2 Mask Generation"
   ]
  },
  {
   "cell_type": "code",
   "execution_count": 155,
   "id": "19d5aa5f-9a0a-4755-9c3e-a1ef7d3f2d80",
   "metadata": {},
   "outputs": [],
   "source": [
    "def create_look_ahead_mask(size):\n",
    "    mask=np.triu(np.ones((size, size)), k=1)\n",
    "    return mask"
   ]
  },
  {
   "cell_type": "markdown",
   "id": "22395573-1148-41c6-9e39-0cadd093d7c5",
   "metadata": {},
   "source": [
    "# Transformer"
   ]
  },
  {
   "cell_type": "markdown",
   "id": "b3d15cf0-8584-4c18-ab79-703ef8268189",
   "metadata": {},
   "source": [
    "For the token_ids, I have simply used index of each word in the sentences.<br>\n",
    "Tokenizer will be implemented in different notebook."
   ]
  },
  {
   "cell_type": "code",
   "execution_count": 156,
   "id": "9cf7b2a9-2a71-4361-a1cb-8b28c07a8580",
   "metadata": {},
   "outputs": [],
   "source": [
    "class Transformer:\n",
    "    def __init__(self, original_text, translated_text, d_model=512):\n",
    "        splitted_ori = original_text.split()\n",
    "        splitted_trans = translated_text.split()\n",
    "        ori_vocab = {}\n",
    "        for idx, word in enumerate(splitted_ori):\n",
    "            if word not in ori_vocab.keys():\n",
    "                ori_vocab[word] = idx\n",
    "        trans_vocab = {}\n",
    "        for idx, word in enumerate(splitted_trans):\n",
    "            if word not in trans_vocab.keys():\n",
    "                trans_vocab[word] = idx\n",
    "        self.ori_token_id = [ori_vocab[word] for word in splitted_ori]\n",
    "        self.trans_token_id = [trans_vocab[word] for word in splitted_trans]\n",
    "        ori_vocab_size = len(splitted_ori)\n",
    "        trans_vocab_size = len(splitted_trans)        \n",
    "        self.encoder = Encoder(vocab_size=ori_vocab_size)\n",
    "        self.decoder = Decoder(vocab_size=trans_vocab_size)\n",
    "        self.embed = Embed(vocab_size=trans_vocab_size, d_model=d_model)\n",
    "\n",
    "    def run(self):\n",
    "        encoder_output = self.encoder.run(self.ori_token_id)\n",
    "        decoder_output = self.decoder.run(self.trans_token_id, encoder_output)\n",
    "        final_embedding = self.embed.output_to_probabilities(decoder_output)\n",
    "        return final_embedding"
   ]
  },
  {
   "cell_type": "code",
   "execution_count": 157,
   "id": "7a0e2e23-f05d-4671-a4a9-87c98fce508f",
   "metadata": {},
   "outputs": [
    {
     "data": {
      "text/plain": [
       "array([[0.17776883, 0.29506878, 0.52716239],\n",
       "       [0.17776883, 0.29506878, 0.52716239],\n",
       "       [0.17776883, 0.29506878, 0.52716239]])"
      ]
     },
     "execution_count": 157,
     "metadata": {},
     "output_type": "execute_result"
    }
   ],
   "source": [
    "original_text = \"I am so hungry\"\n",
    "translated_text = \"tengo mucha hambre\"\n",
    "transformer = Transformer(original_text, translated_text)\n",
    "transformer.run()"
   ]
  }
 ],
 "metadata": {
  "kernelspec": {
   "display_name": "Python 3 (ipykernel)",
   "language": "python",
   "name": "python3"
  },
  "language_info": {
   "codemirror_mode": {
    "name": "ipython",
    "version": 3
   },
   "file_extension": ".py",
   "mimetype": "text/x-python",
   "name": "python",
   "nbconvert_exporter": "python",
   "pygments_lexer": "ipython3",
   "version": "3.11.5"
  }
 },
 "nbformat": 4,
 "nbformat_minor": 5
}
