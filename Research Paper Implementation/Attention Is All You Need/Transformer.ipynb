{
 "cells": [
  {
   "cell_type": "code",
   "execution_count": null,
   "id": "66391665-8d20-4a72-9b43-e84d4c32caf8",
   "metadata": {},
   "outputs": [],
   "source": [
    "import numpy as np"
   ]
  },
  {
   "cell_type": "markdown",
   "id": "15b794b3-dacf-4427-a669-bd91ef4474eb",
   "metadata": {},
   "source": [
    "# 3.1 Encoder and Decoder Stacks\n",
    "Implemented only based on chapter 3.1"
   ]
  },
  {
   "cell_type": "markdown",
   "id": "2f2a3ac8-da26-446d-b759-7a3c49e5dad6",
   "metadata": {},
   "source": [
    "## 3.1.1 Encoder"
   ]
  },
  {
   "cell_type": "code",
   "execution_count": null,
   "id": "0850ff76-25ac-47f3-b9bc-b4da6e867b60",
   "metadata": {},
   "outputs": [],
   "source": [
    "class Encoder:\n",
    "    '''\n",
    "    Composed of 6 stack of identical layers\n",
    "    Each layer has two sub-layers\n",
    "    \n",
    "    First layer : Multi-Head Self-Attention Mechanism\n",
    "    Second layer : Position-wise fully connected Feed-Forward Network.\n",
    "\n",
    "    Residual Connection around each two sub-layer is employed, followed by layer normalization.\n",
    "    The output of each sub-layer is LayerNorm (x+ Sublayer(x)) where Sublayer(x) is the function implemented by the sub-layer itself.\n",
    "\n",
    "    To facilitate these residual connections, all sub-layers in the model (including embedding layer)\n",
    "    produces outputs of dimension d_model = 512\n",
    "    '''\n",
    "    def __init__(self):\n",
    "        pass\n",
    "\n",
    "    def input_embedding(self, input):\n",
    "        return Embed().run(input)\n",
    "                \n",
    "    def positional_encoding(self, input): ### Not yet described, described in 3.5\n",
    "        embedded_input = self.input_embedding(input)\n",
    "        positional_encoded_embedding = PositionalEncoding().run(embedded_input) # will be defined later on.\n",
    "        return positional_encoded_embedding\n",
    "\n",
    "    def normalized(self, output): ### Not yet described, described in ???\n",
    "        normalized_output = Normalized().run(output) # will be defined later on.\n",
    "        return normalized_output \n",
    "        \n",
    "    def add_norm(self, input, layer_output):\n",
    "        # in ma_layer, input will be positional_encoded_embedding\n",
    "        # in ff_layer, input will be the output of ma_layer\n",
    "        return normalized(input + layer_output)\n",
    "\n",
    "    def multihead_attention(self, input): ### Not yet described, described in 3.2.2\n",
    "        output = MultiHead().run(input) # will be defined later on.\n",
    "        return output\n",
    "\n",
    "    def feed_forward(self, input): ### Not yet described, described in 3.3\n",
    "        output = FeedForward().run(input) # will be defined later on \n",
    "        return output\n",
    "        \n",
    "    def ma_layer(self, positional_encoded_embedding):\n",
    "        multihead_attentioned = self.multihead_attention(input_embedding)\n",
    "        normalized_ouptut = self.add_norm(positional_encoded_embedding, multihead_attentioned)\n",
    "        return normalized_ouptut\n",
    "        \n",
    "    def ff_layer(self, ma_layer_output):\n",
    "        feed_forwarded = self.feed_forward(ma_layer_output)\n",
    "        layer_norm_ouptut = self.add_norm(ma_layer_output, feed_forwarded)\n",
    "        return normalized_ouptut\n",
    "        \n",
    "    def run(self, input):\n",
    "        positional_encoded_embedding = positional_encoding(input)\n",
    "        for _ in range(6):\n",
    "            ma_layer_output = self.ma_layer(positional_encoded_embedding)\n",
    "            ff_layer_output = self.ff_layer(ma_layer_output)\n",
    "            positional_encoded_embedding = ff_layer_output\n",
    "        return ff_layer_output"
   ]
  },
  {
   "cell_type": "markdown",
   "id": "a3dbf922-dc56-4d3c-a3f8-9812e0cae169",
   "metadata": {},
   "source": [
    "## 3.1.2 Decoder"
   ]
  },
  {
   "cell_type": "code",
   "execution_count": null,
   "id": "839a6eea-4f3e-4382-bc6c-21d324d7a229",
   "metadata": {},
   "outputs": [],
   "source": [
    "class Decoder:        \n",
    "    '''\n",
    "    Composed of 6 stack of identical layers.\n",
    "    Each layer has three sub-layers.\n",
    "\n",
    "    First layer : Masked Multi-Head Self-Attention Mechanism\n",
    "    Second layer : Multi-Head Self-Attention Mechanism\n",
    "    Third layer : Position-wise fully connected Feed-Forward Network.\n",
    "\n",
    "    Residual Connection around each two sub-layer is employed, followed by layer normalization.\n",
    "    The output of each sub-layer is LayerNorm (x+ Sublayer(x)) where Sublayer(x) is the function implemented by the sub-layer itself.\n",
    "\n",
    "    To facilitate these residual connections, all sub-layers in the model (including embedding layer)\n",
    "    produces outputs of dimension d_model = 512\n",
    "    '''\n",
    "    def __init__(self):\n",
    "        pass\n",
    "        \n",
    "    def input_embedding(self, input):\n",
    "        return Embed().run(input)\n",
    "                \n",
    "    def positional_encoding(self, input): ### Not yet described, described in 3.5\n",
    "        embedded_input = self.input_embedding(input)\n",
    "        positional_encoded_embedding = PositionalEncoding().run(embedded_input) # will be defined later on.\n",
    "        return positional_encoded_embedding\n",
    "\n",
    "    def normalized(self, output): ### Not yet described, described in ???\n",
    "        normalized_output = Normalized().run(output) # will be defined later on.\n",
    "        return normalized_output \n",
    "        \n",
    "    def add_norm(self, input, layer_output):\n",
    "        # in ma_layer, input will be positional_encoded_embedding\n",
    "        # in ff_layer, input will be the output of ma_layer\n",
    "        return normalized(input + layer_output)\n",
    "\n",
    "    def multihead_attention(self, masked_ma_layer_output, input): ### Not yet described, described in 3.2.2\n",
    "        output = MultiHead().run(masked_ma_layer_output, input) # will be defined later on.\n",
    "        return output\n",
    "\n",
    "    def feed_forward(self, input): ### Not yet described, described in 3.3\n",
    "        output = FeedForward().run(input) # will be defined later on \n",
    "        return output\n",
    "        \n",
    "    def masked_ma_layer(positional_encoded_embedding):\n",
    "        masked_ma = MaskedMultiHeadAttention().run(positional_encoded_embedding)\n",
    "        normalized_output = add_norm(positional_encoded_embedding, masked_ma)\n",
    "        return normalized_output\n",
    "    \n",
    "    def ma_layer(self, masked_ma_layer_output, encoder_output):\n",
    "        multihead_attentioned = self.multihead_attention(masked_ma_layer_output, encoder_output)\n",
    "        normalized_ouptut = self.add_norm(masked_ma_layer_output, multihead_attentioned)\n",
    "        return normalized_ouptut\n",
    "        \n",
    "    def ff_layer(self, ma_layer_output):\n",
    "        feed_forwarded = self.feed_forward(ma_layer_output)\n",
    "        normalized_ouptut = self.add_norm(ma_layer_output, feed_forwarded)\n",
    "        return normalized_ouptut\n",
    "\n",
    "    def run(self, input, encoder_output):\n",
    "        positional_encoded_embedding = positional_encoding(input)\n",
    "        for _ in range(6):\n",
    "            ma_layer_output = self.ma_layer(positional_encoded_embedding)\n",
    "            ff_layer_output = self.ff_layer(ma_layer_output)\n",
    "            positional_encoded_embedding = ff_layer_output\n",
    "        return ff_layer_output\n",
    "\n",
    "    return normalized_ff_layer_output"
   ]
  },
  {
   "cell_type": "markdown",
   "id": "8551092c-265d-4a66-98fc-3740561cce68",
   "metadata": {},
   "source": [
    "# 3.2 Attention\n",
    "## 3.2.1 Scaled Dot-Product Attention"
   ]
  },
  {
   "cell_type": "code",
   "execution_count": null,
   "id": "c894c105-22a1-4c42-89d9-0cbe18c5da04",
   "metadata": {},
   "outputs": [],
   "source": [
    "class ScaledDotProductAttention:\n",
    "    '''\n",
    "    Input consists of queries and keys of dimension d_k, and values of dimension d_v\n",
    "    compute the dot products of the query with all keys, divide each by $\\sqrt {d_k}$,\n",
    "    and apply a softmax function to obtain the weights on the values.\n",
    "\n",
    "    In practice, we compute the attention function on a set of queries simultaneously, packed together into matrix Q.\n",
    "    The key in matrix K, the value in matrix V.\n",
    "    '''\n",
    "    def __init__(self):\n",
    "        pass\n",
    "\n",
    "    def softmax(matrix):\n",
    "        e_x = np.exp(matrix - np.max(matrix, axis=-1, keepdims=True))\n",
    "        return e_x / e_x.sum(e_x, axis=-1, keepdims=True)\n",
    "    \n",
    "    def run(Q, K, V):\n",
    "        softmaxed = self.softmax(np.matmul(Q, K.T)/K.shape[1])\n",
    "        result = np.matmul(softmaxed, V)\n",
    "        return result"
   ]
  },
  {
   "cell_type": "markdown",
   "id": "4e4bb07f-7cea-4636-b6b5-76c019c7ff95",
   "metadata": {},
   "source": [
    "## 3.2.2 Multi-Head Attention"
   ]
  },
  {
   "cell_type": "code",
   "execution_count": null,
   "id": "7536c995-b4d8-46f3-adf7-dfca0cae7f66",
   "metadata": {},
   "outputs": [],
   "source": [
    "class MultiHead:\n",
    "    def __init__(self):\n",
    "        pass\n",
    "\n",
    "    def concat(self, Q, K, V, W):\n",
    "\n",
    "    def attention(self, Q, K, V, W):\n",
    "\n",
    "    def run(self, Q, K, V, W):\n",
    "        \n",
    "    "
   ]
  },
  {
   "cell_type": "code",
   "execution_count": null,
   "id": "9cf7b2a9-2a71-4361-a1cb-8b28c07a8580",
   "metadata": {},
   "outputs": [],
   "source": [
    "class Transformer:\n",
    "    def __init__(self):\n",
    "        pass"
   ]
  }
 ],
 "metadata": {
  "kernelspec": {
   "display_name": "Python 3 (ipykernel)",
   "language": "python",
   "name": "python3"
  },
  "language_info": {
   "codemirror_mode": {
    "name": "ipython",
    "version": 3
   },
   "file_extension": ".py",
   "mimetype": "text/x-python",
   "name": "python",
   "nbconvert_exporter": "python",
   "pygments_lexer": "ipython3",
   "version": "3.11.5"
  }
 },
 "nbformat": 4,
 "nbformat_minor": 5
}
