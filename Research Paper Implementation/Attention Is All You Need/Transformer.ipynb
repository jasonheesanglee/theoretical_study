{
 "cells": [
  {
   "cell_type": "markdown",
   "id": "15b794b3-dacf-4427-a669-bd91ef4474eb",
   "metadata": {},
   "source": [
    "# 3.1 Encoder and Decoder Stacks"
   ]
  },
  {
   "cell_type": "code",
   "execution_count": null,
   "id": "0850ff76-25ac-47f3-b9bc-b4da6e867b60",
   "metadata": {},
   "outputs": [],
   "source": [
    "def encoder(input_embedding):\n",
    "    '''\n",
    "    Composed of 6 stack of identical layers\n",
    "    Each layer has two sub-layers\n",
    "    \n",
    "    First layer : Multi-Head Self-Attention Mechanism\n",
    "    Second layer : Position-wise fully connected Feed-Forward Network.\n",
    "\n",
    "    Residual Connection around each two sub-layer is employed, followed by layer normalization.\n",
    "    The output of each sub-layer is LayerNorm (x+ Sublayer(x)) where Sublayer(x) is the function implemented by the sub-layer itself.\n",
    "\n",
    "    To facilitate these residual connections, all sub-layers in the model (including embedding layer)\n",
    "    produces outputs of dimension d_model = 512\n",
    "    '''\n",
    "    def ma_layer(input_embedding):\n",
    "        return layer_norm\n",
    "    \n",
    "    def ff_layer(ma_layer_output):\n",
    "        return layer_norm\n",
    "\n",
    "    def layer_norm():\n",
    "        return x + sublayer(x)\n",
    "        \n",
    "    def sublayer(x):\n",
    "        return ########################\n",
    "        \n",
    "    for _ in range(6):\n",
    "        ma_layer_output = ma_layer(input_embedding)\n",
    "        normalized_ma_layer_output = normalize(ma_layer_output)\n",
    "        \n",
    "        ff_layer_output = ff_layer(normalized_ma_layer_output)\n",
    "        normalized_ff_layer_output = normalize(ff_layer_output)\n",
    "        input_embedding = normalized_ff_layer_output\n",
    "\n",
    "    return normalized_ff_layer_output"
   ]
  },
  {
   "cell_type": "code",
   "execution_count": null,
   "id": "839a6eea-4f3e-4382-bc6c-21d324d7a229",
   "metadata": {},
   "outputs": [],
   "source": [
    "def decoder(encoder_output):\n",
    "    '''\n",
    "    Composed of 6 stack of identical layers.\n",
    "    Each layer has three sub-layers.\n",
    "\n",
    "    First layer : Masked Multi-Head Self-Attention Mechanism\n",
    "    Second layer : Multi-Head Self-Attention Mechanism\n",
    "    Third layer : Position-wise fully connected Feed-Forward Network.\n",
    "\n",
    "    Residual Connection around each two sub-layer is employed, followed by layer normalization.\n",
    "    The output of each sub-layer is LayerNorm (x+ Sublayer(x)) where Sublayer(x) is the function implemented by the sub-layer itself.\n",
    "\n",
    "    To facilitate these residual connections, all sub-layers in the model (including embedding layer)\n",
    "    produces outputs of dimension d_model = 512\n",
    "    '''"
   ]
  }
 ],
 "metadata": {
  "kernelspec": {
   "display_name": "Python 3 (ipykernel)",
   "language": "python",
   "name": "python3"
  },
  "language_info": {
   "codemirror_mode": {
    "name": "ipython",
    "version": 3
   },
   "file_extension": ".py",
   "mimetype": "text/x-python",
   "name": "python",
   "nbconvert_exporter": "python",
   "pygments_lexer": "ipython3",
   "version": "3.11.5"
  }
 },
 "nbformat": 4,
 "nbformat_minor": 5
}
