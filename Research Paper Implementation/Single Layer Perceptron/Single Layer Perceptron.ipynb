{
 "cells": [
  {
   "cell_type": "markdown",
   "id": "888a635b-115f-45ae-b4f9-01a6a6382919",
   "metadata": {},
   "source": [
    "# Analysis of the predominant phase"
   ]
  },
  {
   "cell_type": "markdown",
   "id": "0c260c8a-c0e1-4349-8322-1e21916ee87c",
   "metadata": {},
   "source": [
    "$P_a$ = the expected proportion of A-units activated by a stimulus of a given size<br>\n",
    "$P_c$ = the conditional probability that an A-unit which responds to a given stimulus ($S_1$), will allso respond to another given stimulus ($S_2$)<br><br>\n",
    "It can be shown that as the size of the retina is increased,<br>\n",
    "the number of S-points($N_s$) quickly ceases to be a significant parameter,<br>\n",
    "and the values of $P_a$ and $P_c$ approach the value that they would have for a retina with infinitely many points.<br><br>\n",
    "For a large retina, therefore, the equations are as follows:<br><br>($P_a$ approach)<br>\n",
    "$$\n",
    "P_a = \\sum^{x}_{e=\\theta} \\sum^{min(y, e-\\theta)}_{i=\\theta} P(e,i)\n",
    "$$\n",
    "\n",
    "$$\n",
    "where\n",
    "$$\n",
    "\n",
    "$$\n",
    "P(e,i) = \n",
    "\\begin{equation}\n",
    "    \\begin{pmatrix}\n",
    "    x \\\\\n",
    "    e\\\\\n",
    "    \\end{pmatrix}\n",
    "R^{e}(1-R)^{x-e} \\times \n",
    "    \\begin{pmatrix}\n",
    "    y \\\\\n",
    "    i\\\\\n",
    "    \\end{pmatrix}\n",
    "\\end{equation}\n",
    "R^{i}(1-R)^{y-i}\n",
    "$$\n",
    "and<br>\n",
    "$R$ = proportion of S-points activated by the stimulus<br>\n",
    "$x$ = number of excitatory connections to each A-unit<br>\n",
    "$y$ = number of inhibitory connections to each A-unit<br>\n",
    "$\\theta$ = threshold of A-units<br>\n",
    "(The quantities $e$ and $i$ are the excitatory and inhibitory components of the excitation received by the A-unit from the stimulus.<br>\n",
    "If the algebraic sum $\\alpha = e+i$ is equal to or greater than $\\theta$, the A-unit is assumed to respond)"
   ]
  },
  {
   "cell_type": "code",
   "execution_count": 1,
   "id": "921ad00f-10f5-485e-be8b-cac512042591",
   "metadata": {},
   "outputs": [],
   "source": [
    "import numpy as np\n",
    "from scipy.special import comb\n",
    "\n",
    "def calculate_Pa(R,x,y,theta):\n",
    "    def P(e, i):\n",
    "        term1 = comb(x, e) * (R**e) * ((1-R)**(x-e))\n",
    "        term2 = comb(y, i) * (R**i) * ((1-R)**(y-i))\n",
    "        return term1 * term2\n",
    "    Pa = sum(sum(P(e,i) for i in range(max(theta, e - theta), min(y, e - theta)+1)) for e in range(theta, x+1))\n",
    "    return Pa"
   ]
  },
  {
   "cell_type": "markdown",
   "id": "27965c9b-e2c1-4ae0-a3ce-d5727af211c6",
   "metadata": {},
   "source": [
    "($P_{c}$ approach)\n",
    "$$\n",
    "P_{c} = \\frac{1}{P_{a}} \\sum^{x}_{e= \\theta } \\sum^{y}_{i={e-\\theta}} \\sum^{e}_{l_{e}=0} \\sum^{i}_{l_{i}=0} \\sum^{x-e}_{g_{e}=0} \\sum^{y-i}_{g_{i}=0} P(e,i,l_{e}, l_{i}, g_{e}, g_{i})\n",
    "$$\n",
    "$$\n",
    "(e - i - l_{e} + l_{i} + g_{e} - g_i \\ge \\theta)\n",
    "$$\n",
    "$$\n",
    "where\n",
    "$$\n",
    "$$\n",
    "\\begin{equation}\n",
    "\\begin{aligned}\n",
    "    &P(e,i,l_{e}, l_{i}, g_{e}, g_{i})\\\\\n",
    "    &=\\binom{x}{e} R^{e}(1 - R)^{x - e} \\\\\n",
    "    &\\times \\binom{y}{i} R^{i}(1 - R)^{y - i} \\\\\n",
    "    &\\times \\binom{e}{l_{e}} L^{l_{e}}(1-L)^{e - l_{e}} \\\\\n",
    "    &\\times \\binom{i}{l_{i}} L^{l_{i}}(1-L)^{i - l_{i}} \\\\\n",
    "    &\\times \\binom{x - e}{g_{e}} G^{g_{e}}(1-G)^{x - e - g_{e}} \\\\\n",
    "    &\\times \\binom{y - i}{g_{i}} G^{g_{i}}(1-G)^{y - i - g_{i}} \\\\\n",
    "\\end{aligned}\n",
    "\\end{equation}\n",
    "$$\n",
    "and<br>\n",
    "$L$ = proportion of the S-points illuminated by the first stimulus, $S_1$, which are not illumintated by $S_2$<br>\n",
    "$G$ = proportion of the residual S-set (left over from the first stimulus) which is included in the second stimulus($S_2$)\n",
    "$$$$"
   ]
  },
  {
   "cell_type": "code",
   "execution_count": 9,
   "id": "402514ee-6783-44ff-bfac-c1f9b7cac5f6",
   "metadata": {},
   "outputs": [],
   "source": [
    "from tqdm import tqdm\n",
    "\n",
    "def calculate_Pa(R,x,y,theta):\n",
    "    def P(e, i):\n",
    "        term1 = comb(x, e) * (R**e) * ((1-R)**(x-e))\n",
    "        term2 = comb(y, i) * (R**i) * ((1-R)**(y-i))\n",
    "        return term1 * term2\n",
    "    Pa = sum(sum(P(e,i) for i in range(max(theta, e - theta), min(y, e - theta)+1)) for e in range(theta, x+1))\n",
    "    return Pa\n",
    "    \n",
    "def calculate_Pc(x, y, theta, R, L, G, Pa):\n",
    "    def P(e,i,le, li, ge, gi):\n",
    "        term1 = comb(x, e) * (R**e) * ((1 - R)**(x - e))\n",
    "        term2 = comb(y, i) * (R**i) * ((1 - R)**(y - i))\n",
    "        term3 = comb(e, le) * (L**le) * ((1 - L)**(e - le))\n",
    "        term4 = comb(i, li) * (L**li) * ((1 - L)**(i - li))\n",
    "        term5 = comb(x - e, ge) * (G**ge) * ((1 - G)**(x - e - ge))\n",
    "        term6 = comb(y - i, gi) * (G**gi) * ((1 - G)**(y - i - gi))\n",
    "        return term1 * term2 * term3 * term4 * term5 * term6\n",
    "    \n",
    "    Pa = calculate_Pa(R, x, y, theta)\n",
    "    Pc = 0\n",
    "    for e in tqdm(range(theta, x + 1)):\n",
    "        for i in range(e - theta, y + 1):\n",
    "            for le in range(0, e + 1):\n",
    "                for li in range(0, i + 1):\n",
    "                    for ge in range(0, x - e + 1):\n",
    "                        for gi in range(0, y - i + 1):\n",
    "                            if (e - i - le + li + ge - gi) >= theta:\n",
    "                                Pc+= P(e,i,le, li, ge, gi)\n",
    "                                \n",
    "    return Pc/ Pa if Pa != 0 else 0"
   ]
  },
  {
   "cell_type": "code",
   "execution_count": 18,
   "id": "cbbb3f0f-a70f-475c-9268-66a529668413",
   "metadata": {},
   "outputs": [
    {
     "name": "stderr",
     "output_type": "stream",
     "text": [
      "100%|█████████████████████████████████████████████| 8/8 [00:00<00:00, 40.10it/s]\n"
     ]
    },
    {
     "data": {
      "text/plain": [
       "1.8039399712510817"
      ]
     },
     "execution_count": 18,
     "metadata": {},
     "output_type": "execute_result"
    }
   ],
   "source": [
    "# Example numbers\n",
    "\n",
    "x = 10   # number of excitatory connections\n",
    "y = 10   # number of inhibitory connections\n",
    "theta = 3  # threshold\n",
    "R = 0.5  # proportion of S-points activated by the stimulus\n",
    "L = 0.3  # proportion for L\n",
    "G = 0.4  # proportion for G\n",
    "\n",
    "Pa = 0.6  # Example value for Pa, to be computed separately as per your model\n",
    "\n",
    "Pc = calculate_Pc(x, y, theta, R, L, G, Pa)\n",
    "Pc"
   ]
  },
  {
   "cell_type": "markdown",
   "id": "aada75bf-e2b7-4f89-9876-0243f95982a5",
   "metadata": {},
   "source": [
    "The minimum value of $P_c$ is equal to \n",
    "$$\n",
    "P_{c_{min}} = (1 - L)^{x}(1 - G)^{y}\n",
    "$$"
   ]
  },
  {
   "cell_type": "code",
   "execution_count": 11,
   "id": "881992a6-481a-4400-9add-b73c755fbcec",
   "metadata": {},
   "outputs": [],
   "source": [
    "def Pc_min(L, x, G, y):\n",
    "    term1 = (1 - L)**x\n",
    "    term2 = (1 - G)**y\n",
    "    return term1 * term2"
   ]
  },
  {
   "cell_type": "markdown",
   "id": "41e944f3-58ff-4366-84dd-de3a96fd6523",
   "metadata": {},
   "source": [
    "# Mathematical Analysis of Learning in the Perception"
   ]
  },
  {
   "cell_type": "markdown",
   "id": "a0bec8bb-166e-4a47-a16b-13060f092fea",
   "metadata": {},
   "source": [
    "Probability that the perceptron will show a bias towards the \"correct\" response in preference is called $P_r$."
   ]
  },
  {
   "cell_type": "markdown",
   "id": "aaa2c9b9-a1e3-45c9-b2f1-f71dfe5fc947",
   "metadata": {},
   "source": [
    "Probability that the perceptron will give the correct response for the class of stimuli which is represented.<Br>This probability is called $P_g$, the probability of correct generalization.<br>\n",
    "$$P = P(N_{a_{r}} > 0) \\cdot \\phi(Z)$$\n",
    "$$where$$\n",
    "$$P(N_{a_{r}} > 0) = 1 - (1 - P_{a})^{N_{c}}$$\n",
    "<div align = \"center\">\n",
    "    $\\phi (Z)$ = normal curve integral from $-\\infty$ to $Z$\n",
    "</div>\n",
    "$$and$$\n",
    "$$\n",
    "Z=\\frac{c_1n_{s_{r}} + c_{2}}{\\sqrt{{c_3n_{s_{r}}}^2 + c_4n_{s_{r}}}}\n",
    "$$"
   ]
  },
  {
   "cell_type": "code",
   "execution_count": 19,
   "id": "ff8fe065-578e-4701-8b0a-0ea65747f261",
   "metadata": {},
   "outputs": [],
   "source": [
    "from scipy.stats import norm\n",
    "\n",
    "def calculate_P(Nc, Pa, c1, c2, c3, c4, nsr):\n",
    "    P_Nar_greater_than_0 = 1 - (1 - Pa) ** Nc\n",
    "    Z = (c1 * nsr + c2) / np.sqrt((c3 * nsr) ** 2 + c4 * nsr)\n",
    "    phi_Z = norm.cdf(Z)\n",
    "\n",
    "    P = P_Nar_greater_than_0 * phi_Z\n",
    "    return P"
   ]
  },
  {
   "cell_type": "markdown",
   "id": "70080381-edf4-4e56-bbd8-05029c12e9e1",
   "metadata": {},
   "source": [
    "In ideal environment, consisting of randomly placed points of illumination, where there is no attempt to classify stimuli according to intrinsic similarity.<br>\n",
    "Thus, in a typical learning experiment, we might show the perceptron 1,000 stimuli made up of random collections of illuminated retinal points,<br>and we might arbitrarily reinforce $R_{1}$ as the \"correct\" response for the first 500 of these, and $R_{2}$ for the first 500.<br><br>\n",
    "This environment is \"ideal\" only in the sense that we speak of an ideal gas in physics; it is a convenient artifact for purposes of analysis, and does not lead to the best performance from the perceptron.<br>\n",
    "In the ideal environment situation, the constant $c_{1}$ is always equal to zero, so that, in the case of $P_{g}$ (where $c_{2}$ is also zero), the value of $Z$ will be zero, and $P_{g}$ can never be any better than the random expectation of 0.5.<br>\n",
    "The evaluation of $P_{r}$ for these conditions, however, throws some interesting light on the differences between the alpha, beta, and gamma systems.<br><br>\n",
    "**First consider the $\\alpha$-system**, which has the simplest dynamics of the three.<br>\n",
    "In this system, whenever an A-unit is active for one unit of time, it gains one unit of value.<br>\n",
    "We will assume an experiment, initially, in which $N_{a_{r}}$ (the number of stimuli associated to each response) is constant for all responses.<br>\n",
    "In this case, for the sum system,<br>\n",
    "\n",
    "\\begin{cases} \n",
    "    c_1 = 0 \\\\\n",
    "    c_2 = (1-P_a)N_e \\\\\n",
    "    c_3 = 2P_aw \\\\\n",
    "    c_4 \\approx 0 \\\\\n",
    "\\end{cases}\n",
    "\n",
    "where $w = $ the fraction of responses connected to each A-unit.<br>If the source-sets are disjunct, $w = 1 / N_{R},$ where $N_{R}$ is the number of responses in the system.<br>\n",
    "For the $\\mu$-system,<br>\n",
    "\n",
    "\\begin{cases} \n",
    "    c_1 = 0 \\\\\n",
    "    c_2 = (1-P_a)N_e \\\\\n",
    "    c_3 = 0 \\\\\n",
    "    c_4 = 2w \\\\\n",
    "\\end{cases}\n",
    "\n",
    "The reduction of $c_2$ to zero gives the $\\mu$-system a definite advantage over the $\\Sigma$-system.<br>\n",
    "<br> if $n_{a_r}$ instead of being fixed, is treated as a random variable, so that the number of stimuli associated to each response is drawn separately from some distribution, then the performance of the $\\alpha$-system is considerably poorer than the above eqquations indicate.<br>\n",
    "Under these conditions, the constants for the $\\mu$-system are\n",
    "\n",
    "\\begin{cases} \n",
    "    c_1 = 0 \\\\\n",
    "    c_2 = 1-P_a \\\\\n",
    "    c_3 = 2{P_{a}}^{2}{q}^2 [\\frac{(wN_{R}-1)^2}{N_{R}-2}] \\\\\n",
    "    c_4 = \\frac{2(1-P_a)N_{R}}{(1-w_c)N_{A}} \\\\\n",
    "\\end{cases}\n",
    "\n",
    "$where$\n",
    "<div align=\"center\">\n",
    "    <p align=\"left\">\n",
    "        $q =$ ratio of $\\sigma_{n_{S_r{r}}}$ to $\\overleftrightarrow{n}_{S_r}$<br>\n",
    "        $N_R = $ number of responses in the system<br>\n",
    "        $N_A = $ number of A-units in the system<br>\n",
    "        $w_c = $ proportion of A-units common to $R_1$ and $R_2$<br>\n",
    "    </p>\n",
    "</div>\n",
    "\n",
    "For this equation (and any others in which $n_{s_r}$ is treated as a random variable), it is necessary to define $n_{s_r}$ in the equation above (in `calculate_P`) as the expected value of this variable, over the set of all responses.<br><br>\n",
    "\n",
    "For the $\\beta$-system, there is an even greater deficit in performance, due to the fact that the net value continues to grow regardless of what happens to the system.<br>\n",
    "The large net values of the subsets activated by a stimulus tend to amplilfy small statistical differences, causing an unreliable performance.<br>\n",
    "The constants in this case (again for the $\\mu$-system) are\n",
    "\\begin{cases} \n",
    "    c_1 = 0 \\\\\n",
    "    c_2 = (1-P_a)N_e \\\\\n",
    "    c_3 = 2(P_aN_eqw{N_{R}}^2)^2 \\\\\n",
    "    c_4 = 2(1 - P_a)wN_{R}N_e \\\\\n",
    "\\end{cases}\n",
    "In both the $\\alpha$ and $\\beta$ systems, performance will be poorer for the sum-discriminating model than for the mean-discriminating case.<br><br>\n",
    "In the $\\gamma$-system, however, it can be shown that $P_{r(\\Sigma)} = P_{r(\\mu)}$; i.e., it makes no difference in performance whether the $\\Sigma$-system or $\\mu$-system is used.<br>\n",
    "Moreover, the constants for the $\\gamma$-system, with variable $n_{s_r}$ are identical to the constants for the alpha $\\mu$-system, with $n_{s_{r}}$ fixed."
   ]
  },
  {
   "cell_type": "markdown",
   "id": "c408967b-66f8-41d2-8415-38843b4798e7",
   "metadata": {},
   "source": [
    "Replacing the \"Ideal environment\" assumptions with a model for a \"differentiated environment\" in which several distinguishable classes of stimuli are present.<br>\n",
    "If we then design an experiment in which the stimuli associated to each response are drawn from a different class, then the learning curves of the perceptron are drastically altered.<br>\n",
    "The most important difference is that the constant $c_1$ (the coefficient of $n_{s_r}$ in the numerator of $Z$) is no longer equal to zero,<br>so that the equation now has a non random asymtote (the probability of correct generalization), where $c_2 = 0$, the quantity $Z$ remains greater than zero, and $P_g$ actually approaches the same asymtote as $P_r$.<br>\n",
    "Thus the equation for the perceptron's performance after infinite experience with each class of stimuli is identical for $P_r$ and $P_g$:\n",
    "$$\n",
    "P_{r_\\infty} = P_{g_\\infty} = [1-(1-P_a)^{N_e}] \\times \\phi (\\frac{c_1}{\\sqrt{c_3}})\n",
    "$$\n",
    "This means that in the limit it makes no difference whether the perceptron has seen a particular test stimulus before or not;<br>if the stimuli are drawn from a differentiated environment, the performance will be equally good in either case."
   ]
  },
  {
   "cell_type": "code",
   "execution_count": null,
   "id": "aa79d0ad-5315-48c3-ab8c-82926ee30cc1",
   "metadata": {},
   "outputs": [],
   "source": [
    "def P_inf(P_a, N_e, c_1, c_3):\n",
    "    term1 = 1- (1-P_a)**N_e\n",
    "    Z = c_1 / np.sqrt(c_3)\n",
    "    phi_Z = norm.cdf(Z)\n",
    "    return term1 * phi_Z"
   ]
  },
  {
   "cell_type": "markdown",
   "id": "b8737fc4-524f-47c0-9400-1e4917ef502a",
   "metadata": {},
   "source": [
    "The equation for $P_r$, for the sum-discriminating version of an $\\alpha$-perceptron, in a differentiated environment where $n_{s_r}$ is fixed for all responses, will have the following expressions for the four coefficients:\n",
    "\\begin{cases} \n",
    "c_1 = P_aN_e(P_{c11} - P_{c12}) \\\\\n",
    "c_2 = P_aN_e(1-P_{c11}) \\\\\n",
    "\\begin{equation}\n",
    "\\begin{aligned}\n",
    "    c_3 &= \\sum_{r=1,2} P_a (1 - P_a) N_e\\\\\n",
    "    &\\times \\left[ P_{c1_r}^2 + \\sigma_3^2(P_{c1_r}) \\right. \\\\\n",
    "    &\\quad + \\sigma_j^2(P_{c1r} + (wN_{R} - 1)^2) \\\\\n",
    "    &\\quad \\times (P_{c1_x} + \\sigma_S^2 (P_{c1_x}) \\\\\n",
    "    &\\quad + \\sigma_j^2(P_{c_{rx}})) + 2(wN_{R} - 1) \\\\\n",
    "    &\\quad \\left. (P_{c1_r}P_{c1_x}) \\right] + P_a^2 N_e^2 \\\\\n",
    "    &\\quad \\times \\left[ \\sigma_S^2(P_{c1_r}) + (wN_{R} - 1)^2 \\right. \\\\\n",
    "    &\\quad \\times \\sigma_S^2(P_{c1_r}) + (wN_{R} - 1)^2 \\\\\n",
    "    &\\quad \\left. \\times \\sigma_S^2(P_{c1_x}) + 2(wN_{R} - 1) \\epsilon \\right] \\\\\n",
    "    c_4 &= \\sum_{r=1,2} P_a N_e \\left[ P_{c1_r} - P_{c1_r}^2 \\right. \\\\\n",
    "    &\\quad - \\sigma_S^2(P_{c1_r}) - \\sigma_j^2(P_{c1_r}) \\\\\n",
    "    &\\quad \\left. + (wN_R - 1)(P_{c1_x} - P_{c1_x}^2 - \\sigma_j^2(P_{c1_x})) \\right]\n",
    "\\end{aligned}\n",
    "\\end{equation}\n",
    "\\end{cases}\n",
    "\n",
    "$where$<br>\n",
    "$\\sigma_S^2(P_{c1_r})$ and $\\sigma_S^2(P_{c1_x})$ represent the variance of $P_{c1_r}$ and $P_{c1_x}$ measured over the set of possible test stimuli, $S_t$<br>$\\sigma_j^2(P_{c1_r}$ and $\\sigma_j^2(P_{c1_x})$ represent the variance of $P_{c1_r}$ and $P_{c1_x}$ measured over the set of all A-units, $a_j$.<br>\n",
    "$\\epsilon = $ covariance of $P_{c1_r}P_{c1_x}$, which is assumed to be negligible."
   ]
  },
  {
   "cell_type": "markdown",
   "id": "fffa4007-7569-45ee-bd9c-da9171328b56",
   "metadata": {},
   "source": [
    "For the mean-discriminating system, the coefficients are:\n",
    "\n",
    "\\begin{cases} \n",
    "c_1 = (P_{c11} - P_{c12}) \\\\\n",
    "c_2 = (1-P_{c11}) \\\\\n",
    "\\begin{equation}\n",
    "\\begin{aligned}\n",
    "    c_3 &= \\sum_{r=1,2} \\left[ \\frac{1}{P_a (N_e - 1)} - \\frac{1}{N_e - 1} \\right] \\\\\n",
    "    &\\quad \\times \\left[ \\sigma_j^2(P_{c1_r}) + (wN_{R} - 1)^2 \\\\\n",
    "    \\times \\sigma_j^2(P_{c1_r}) \\right]\\\\\n",
    "    &\\quad + \\left[ \\sigma_S^2(P_{c1_r}) + (wN_{R} - 1)^2\n",
    "    \\sigma_S^2(P_{c1_x}) \\right] \\\\\n",
    "    c_4 &= \\sum_{r=1,2} \\frac{1}{P_a N_e} \\left[ P_{c1_r} - P_{c1_r}^2 - \\sigma_S^2(P_{c1_r}) - \\sigma_j^2(P_{c1_r}) \\right. \\\\\n",
    "    &\\quad + (wN_R - 1)\\left(P_{c1_x} - P_{c1_x}^2 - \\sigma_S^2\n",
    "    (P_{c1_x}) - \\sigma_j^2(P_{c1_x}) \\right) \\Bigg]\n",
    "\\end{aligned}\n",
    "\\end{equation}\n",
    "\\end{cases}"
   ]
  },
  {
   "cell_type": "markdown",
   "id": "4ff7fcb7-53ca-40d0-b0a2-9d0918359afa",
   "metadata": {},
   "source": [
    "# Training Perceptron"
   ]
  },
  {
   "cell_type": "code",
   "execution_count": 2,
   "id": "a4f7b12d-2e85-47be-9547-44a8cb1de868",
   "metadata": {},
   "outputs": [],
   "source": [
    "import numpy as np\n",
    "import matplotlib.pyplot as plt\n",
    "from IPython.display import clear_output"
   ]
  },
  {
   "cell_type": "code",
   "execution_count": 3,
   "id": "5d4445b6-dc4f-4336-95cb-3235051eb201",
   "metadata": {},
   "outputs": [],
   "source": [
    "def step_function(x):\n",
    "    if x < threshold:\n",
    "        return 0\n",
    "    else:\n",
    "        return 1\n",
    "        "
   ]
  },
  {
   "cell_type": "code",
   "execution_count": 5,
   "id": "46aada30-7e3d-4c5d-964e-6e8e3eaf2559",
   "metadata": {},
   "outputs": [],
   "source": [
    "def gen_training_data(data_point):\n",
    "    x1 = np.random.random(data_point)\n",
    "    x2 = np.random.random(data_point)\n",
    "    y = (x1 + x2 > 1).astype(int)\n",
    "    training_set = [((x1[i], x2[i]), y[i]) for i in range(len(x1))]\n",
    "    return training_set"
   ]
  },
  {
   "cell_type": "code",
   "execution_count": 6,
   "id": "9b1db383-783c-43a1-b056-d196828751bd",
   "metadata": {},
   "outputs": [],
   "source": [
    "threshold = 0.5\n",
    "w = np.array([0.3, 0.9])\n",
    "lr = 0.1\n",
    "data_point = 100\n",
    "epoch = 10\n",
    "training_set = gen_training_data(data_point)"
   ]
  },
  {
   "cell_type": "code",
   "execution_count": 7,
   "id": "f125e128-6ba5-4e0a-99e5-644e6517055d",
   "metadata": {},
   "outputs": [
    {
     "data": {
      "text/plain": [
       "[((0.39757906646406105, 0.6434861790717605), 1),\n",
       " ((0.3657188310229632, 0.7770164800800017), 1),\n",
       " ((0.13085166801317094, 0.6924381804194663), 0),\n",
       " ((0.702212491169745, 0.5191048934361544), 1),\n",
       " ((0.15578912141759715, 0.2940184490645751), 0)]"
      ]
     },
     "execution_count": 7,
     "metadata": {},
     "output_type": "execute_result"
    }
   ],
   "source": [
    "training_set[0:5]"
   ]
  },
  {
   "cell_type": "code",
   "execution_count": 9,
   "id": "0f604510-549f-4f6d-9e77-90b768cd3927",
   "metadata": {},
   "outputs": [
    {
     "data": {
      "image/png": "[encoded data removed]",
      "text/plain": [
       "<Figure size 640x480 with 1 Axes>"
      ]
     },
     "metadata": {},
     "output_type": "display_data"
    }
   ],
   "source": [
    "plt.figure(0)\n",
    "plt.ylim(-0.1, 1.1)\n",
    "plt.xlim(-0.1, 1.1)\n",
    "ax = plt.gca()\n",
    "ax.set_aspect('equal', adjustable='box')\n",
    "\n",
    "for x, y in training_set:\n",
    "    if y == 1:\n",
    "        plt.plot(x[0], x[1], 'bo')\n",
    "    else:\n",
    "        plt.plot(x[0], x[1], 'go')"
   ]
  },
  {
   "cell_type": "code",
   "execution_count": 11,
   "id": "33ee8375-2ac0-4e0e-a8fc-94d4760d31d2",
   "metadata": {},
   "outputs": [
    {
     "data": {
      "image/png": "[encoded data removed]",
      "text/plain": [
       "<Figure size 640x480 with 1 Axes>"
      ]
     },
     "metadata": {},
     "output_type": "display_data"
    }
   ],
   "source": [
    "%matplotlib inline\n",
    "from time import sleep\n",
    "\n",
    "plt.figure(0)\n",
    "plt.ylim(-0.1, 1.1)\n",
    "plt.xlim(-0.1, 1.1)\n",
    "ax = plt.gca()\n",
    "ax.set_aspect('equal', adjustable='box')\n",
    "\n",
    "xx = np.linspace(0, 1, 50)\n",
    "for i in range(epoch):\n",
    "    cnt = 0\n",
    "    for x, y in training_set:\n",
    "        clear_output(wait=True)\n",
    "        u = sum(x*w)\n",
    "        error = y-step_function(u)\n",
    "        for index, value in enumerate(x):\n",
    "            w[index] = w[index] + lr*error*value\n",
    "\n",
    "        for xs, ys in training_set[0:cnt]:\n",
    "            plt.ylim(-0.1, 1.1)\n",
    "            plt.xlim(-0.1, 1.1)\n",
    "            ax = plt.gca()\n",
    "            ax.set_aspect('equal', adjustable='box')\n",
    "            \n",
    "            if ys == 1:\n",
    "                plt.plot(xs[0], xs[1], 'bo')\n",
    "            else:\n",
    "                plt.plot(xs[0], xs[1], 'go')\n",
    "        yy = -w[1]/w[0] * xx + threshold/w[0] # <== w[0] * yy + w[1] * xx = threshold\n",
    "        plt.plot(xx, yy)\n",
    "        plt.show()\n",
    "        cnt = cnt  + 1\n",
    "        sleep(0.01)"
   ]
  },
  {
   "cell_type": "code",
   "execution_count": 12,
   "id": "14b4e612-b40b-44bf-8d81-270d96160eab",
   "metadata": {},
   "outputs": [
    {
     "data": {
      "text/plain": [
       "0.4940996111484838"
      ]
     },
     "execution_count": 12,
     "metadata": {},
     "output_type": "execute_result"
    }
   ],
   "source": [
    "w[1]"
   ]
  },
  {
   "cell_type": "code",
   "execution_count": 13,
   "id": "f2f516b5-0b1c-4389-b703-f4c123f28c31",
   "metadata": {},
   "outputs": [
    {
     "data": {
      "text/plain": [
       "0.5029089462029646"
      ]
     },
     "execution_count": 13,
     "metadata": {},
     "output_type": "execute_result"
    }
   ],
   "source": [
    "w[0]"
   ]
  },
  {
   "cell_type": "code",
   "execution_count": 14,
   "id": "b947d779-fd04-4de8-b8db-6b72a968ff08",
   "metadata": {},
   "outputs": [
    {
     "data": {
      "text/plain": [
       "0.5"
      ]
     },
     "execution_count": 14,
     "metadata": {},
     "output_type": "execute_result"
    }
   ],
   "source": [
    "threshold"
   ]
  },
  {
   "cell_type": "code",
   "execution_count": null,
   "id": "d2cec349-4ede-49b5-88ff-e03af4283b97",
   "metadata": {},
   "outputs": [],
   "source": [
    "yy = -w[1]/w[0] * xx + threshold/w[0]"
   ]
  },
  {
   "cell_type": "code",
   "execution_count": null,
   "id": "73018b1b-0179-4076-a84e-191a9c3bfca1",
   "metadata": {},
   "outputs": [],
   "source": [
    "y = -1 * x + 1"
   ]
  }
 ],
 "metadata": {
  "kernelspec": {
   "display_name": "Python 3 (ipykernel)",
   "language": "python",
   "name": "python3"
  },
  "language_info": {
   "codemirror_mode": {
    "name": "ipython",
    "version": 3
   },
   "file_extension": ".py",
   "mimetype": "text/x-python",
   "name": "python",
   "nbconvert_exporter": "python",
   "pygments_lexer": "ipython3",
   "version": "3.11.5"
  }
 },
 "nbformat": 4,
 "nbformat_minor": 5
}
