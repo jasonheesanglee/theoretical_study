{
 "cells": [
  {
   "cell_type": "markdown",
   "id": "ba6b359f-320c-4ae5-9dc9-247988ef13a4",
   "metadata": {},
   "source": [
    "# Multilayer Perceptron"
   ]
  },
  {
   "cell_type": "markdown",
   "id": "e0adbde6-f422-49b3-870e-649712d3c65b",
   "metadata": {},
   "source": [
    "The simplest form of the learning procedure is for layered networks,<br> which have a layer of input units at the bottom;<br> any number of intermediate layers;<br> and a layer of output units at the top.<br><br>\n",
    "Connections within a layer or from higher to lower layers are forbidden, but the connections **can skip intermediate layers**.<br>\n",
    "An input vector is presented to the network by setting the states of the input units.<br>\n",
    "Then the states of the units in each layer are determined by applying equations (1) and (2) to the connections coming from the lower layers.<br>\n",
    "All units within a layer have their states set in parallel, but different layers have their states set sequentially, starting at the bottom and working upwards until the states of the output units are determined.<br><br>\n",
    "\n",
    "## Equation (1).\n",
    "The total input $x_j$, to unit $j$ is a linear function of the outputs $y_i$, of the units that are connected to $j$ and of the weights $w_{ji}$, on these connections.\n",
    "$$\n",
    "x_j = \\sum_i y_iw_{ji}\n",
    "$$"
   ]
  },
  {
   "cell_type": "code",
   "execution_count": 1,
   "id": "143d9348-ae91-4829-8377-645725ed27cc",
   "metadata": {},
   "outputs": [],
   "source": [
    "def x_j(y, w):\n",
    "    y_w_multi = []\n",
    "    for y_i, w_ji in zip(y, w):\n",
    "        y_w_multi.append(y_i * w_ji)\n",
    "    x_j = sum(y_w_multi)\n",
    "    return x_j"
   ]
  },
  {
   "cell_type": "markdown",
   "id": "1894f0c5-960b-425a-bddc-4a39b68f7e37",
   "metadata": {},
   "source": [
    "## Equation (2).\n",
    "Units can be given biases by introducing an extra input to each unit which always has a value of 1.<br>\n",
    "The weight on this extra input is called the bias and is equivalent to a threshold of the opposite sign.<br>\n",
    "It can be treated just like the other weights.<br>\n",
    "A unit has a real-valued output $y_j$, which is a non-linear function of its total input.\n",
    "$$\n",
    "y_j = \\frac{1}{1+e^{-x_j}}\n",
    "$$"
   ]
  },
  {
   "cell_type": "code",
   "execution_count": 5,
   "id": "a75b8681-f505-428b-af35-4379462c83dc",
   "metadata": {},
   "outputs": [],
   "source": [
    "import math\n",
    "\n",
    "def sigmoid_activation(x):\n",
    "    return 1/(1+math.exp**(-x))"
   ]
  },
  {
   "cell_type": "markdown",
   "id": "ac35eba5-5e6b-41ca-9a5f-c1cda5bba5c2",
   "metadata": {},
   "source": [
    "It is not necessary to use exactly the functions given in equations (1) and (2).<br>\n",
    "Any input-output function which has a bounded derivative will do.<br><br>\n",
    "However, the use of a linear function for combining the inputs to a unit before applying the nonlinearity greatly simplifies the learning procedure."
   ]
  },
  {
   "cell_type": "markdown",
   "id": "5a00b8b5-9567-4e2b-9328-94485ff53fe0",
   "metadata": {},
   "source": [
    "# Equation (3)\n",
    "The aim is to find a set of weights that ensure that for each input vector the output vector produced by the network is the same as (or sufficiently close to) the desired output vector.<br>\n",
    "If there is a fixed, finite set of input-output cases, the total error in the performance of the network with a particular set of weights can be computed by comparing the actual and desired output vectors for every case.<br><br>\n",
    "The total error $E$ is definded as:\n",
    "$$\n",
    "E = \\frac{1}{2}\\sum_c\\sum_j(y_{j,c}-d_{j,c})^2\n",
    "$$\n",
    "$where$<br>\n",
    "$c$ is an index over cases (input-output pairs),<br>\n",
    "$j$ is an index over output units,<br>\n",
    "$y$ is the actual state of an output unit,<br>\n",
    "$d$ is its desired state\n"
   ]
  },
  {
   "cell_type": "code",
   "execution_count": 2,
   "id": "3d23812e-3ac2-45e8-9a40-5e181b28e8e7",
   "metadata": {},
   "outputs": [],
   "source": [
    "def calculate_total_error(Y, D):\n",
    "    E = 0\n",
    "    for y_c, d_c in zip(Y, D):\n",
    "        yc = []\n",
    "        for y_j, d_j in zip(y_c, d_j):\n",
    "            yc.append((y_j - d_j)**2)\n",
    "        E = E + sum(yc)\n",
    "    E = 0.5 * E\n",
    "    return E            "
   ]
  },
  {
   "cell_type": "markdown",
   "id": "7e7478f9-4180-40c6-8e59-4662bdbcbb1a",
   "metadata": {},
   "source": [
    "# Equation (4)\n",
    "\n",
    "The backward pass starts by computing $\\partial E / \\partial y$ for each of the output units.<br>\n",
    "Differentiating equation(3) for a particular case $c$, and suppressing the index $c$ gives.\n",
    "$$\n",
    "\\partial E / \\partial y_j = y_j - d_j\n",
    "$$\n",
    "We can then apply the chain rule to compute $\\partial E / \\partial x_j$\n",
    "$$\n",
    "\\partial E / \\partial x_j = \\partial E / \\partial y_j \\cdot dy_j / dx_j\n",
    "$$"
   ]
  },
  {
   "cell_type": "code",
   "execution_count": 3,
   "id": "b09ea6db-e3e1-4043-bf56-a2482ba31642",
   "metadata": {},
   "outputs": [],
   "source": [
    "def compute_gradient(Y, D, dy_dx):\n",
    "    dE_dy = [y_j - d_j for y_j, d_j in zip(Y, D)]\n",
    "    dE_dx = [dE_dy_j * dy_dx_j for dE_dy_j, dy_dx,j in zip(dE_dy, dy_dx)]\n",
    "    return dE_dy, dE_dx"
   ]
  },
  {
   "cell_type": "markdown",
   "id": "884690cf-014a-4248-b71a-51d20f0b2f96",
   "metadata": {},
   "source": [
    "# Equation (5)\n",
    "Differentiating equation(2) to get the value of $dy_j/dx_j$ and substituting gives:\n",
    "$$\n",
    "\\partial E / \\partial x_j = \\partial E / \\partial y_j \\cdot y_j(1-y_j)\n",
    "$$"
   ]
  },
  {
   "cell_type": "code",
   "execution_count": 6,
   "id": "63171d20-1654-4ddc-b2cc-94e15aa4af66",
   "metadata": {},
   "outputs": [],
   "source": [
    "def compute_dE_dx(Y, dE_dy):\n",
    "    dE_dx = [dE_dy_j * y_j * (1 - y_j) for dE_dy_j, y_j in zip(dE_dy, Y)]\n",
    "    return dE_dx"
   ]
  },
  {
   "cell_type": "markdown",
   "id": "a48b331c-3cfc-4d5c-9cee-ea76a63903dd",
   "metadata": {},
   "source": [
    "# Equation(6)\n",
    "This means that we know how a change in the total input $x$ to an output unit will affect the error.<br>\n",
    "But this total input is just a linear function of the states of the lower level units and it is also a linear function of the weights on the connections,<br>so it is easy to comput how the error will be affected by changing these states and weights.<br>\n",
    "For a weight $w_{ji}$ from $i$ to $j$ the derivative is:\n",
    "\\begin{equation}\n",
    "\\begin{aligned}\n",
    "    \\partial E / \\partial w_{ji} &= \\partial E / \\partial x_j \\cdot \\partial x_j / \\partial w_{ji}\\\\\n",
    "    &=\\partial E / \\partial x_j \\cdot y_i\n",
    "\\end{aligned}\n",
    "\\end{equation}\n",
    "and for the output of the $i^{th}$ unit the contribution to $\\partial E / \\partial y_i$ resulting from the effect of $i$ on $j$ is simply\n",
    "$$\n",
    "\\partial E / \\partial x_j \\cdot \\partial x_j / \\partial y_i = \\partial E / \\partial x_j \\cdot w_{ji}\n",
    "$$"
   ]
  },
  {
   "cell_type": "code",
   "execution_count": 8,
   "id": "0c82b1a7-50ce-4cab-8999-0b76241e2f23",
   "metadata": {},
   "outputs": [],
   "source": [
    "def compute_weight_and_output_gradients(dE_dx, Y, W):\n",
    "    dE_dw = [[dE_dx_j * y_i for y_i in Y] for dE_dx_j in dE_dx]\n",
    "    dE_dy = [sum(dE_dx_j * w_ji for dE_dx_j, w_ji in zip(dE_dx, w_row)) for w_row in W]\n",
    "\n",
    "    return dE_dw, dE_dy"
   ]
  },
  {
   "cell_type": "markdown",
   "id": "8de1a652-06b1-4e17-baa2-88565a0810d6",
   "metadata": {},
   "source": [
    "# Equation (7)\n",
    "so taking into account all the connections emanating from unit $i$ we have\n",
    "$$\n",
    "\\partial E / \\partial y_i = \\sum_j \\partial E/\\partial x_j \\cdot w_{ji}\n",
    "$$"
   ]
  },
  {
   "cell_type": "code",
   "execution_count": 9,
   "id": "9c399a84-c4f6-46cf-a4d7-f6a2e2ca77f3",
   "metadata": {},
   "outputs": [],
   "source": [
    "def compute_gradient_dE_dy(dE_dx, W):\n",
    "    dE_dy = [sum(dE_dx_j * w_row[i] for dE_dx_j, w_row in zip(dE_dx, W)) for i in range(len(W[0]))]\n",
    "\n",
    "    return dE_dy\n"
   ]
  },
  {
   "cell_type": "markdown",
   "id": "19baa5e9-3fb1-44ed-9dfb-18978e1261c1",
   "metadata": {},
   "source": [
    "# Equation (8)\n",
    "One way of using $\\partial E / \\partial w$ is to change the weights after every input-output case.<br>\n",
    "This has the advantage that no separate memory is required for the derivatives.<br>\n",
    "An alternative scheme, which we used in the research reported here, is to accumulate $\\partial E / \\partial w$ over all the input-output cases before changing the weights.<br>\n",
    "The simplest version of gradient descent is to change each weight by an amount of proportional to the accumulated $\\partial E / \\partial w$.\n",
    "$$\n",
    "\\Delta w = - \\epsilon \\partial E / \\partial w\n",
    "$$"
   ]
  },
  {
   "cell_type": "code",
   "execution_count": null,
   "id": "d23241e8-8113-4c8b-91fd-34dc1b770290",
   "metadata": {},
   "outputs": [],
   "source": [
    "def update_weights(W, dE_dw, epsilon):\n",
    "    updated_W = [[w_ji - epsilon * dE_dw_ji for w_ji, dE_dw_ji in zip(w_row, dE_dw_row)] \n",
    "                 for w_row, dE_dw_row in zip(W, dE_dw)]\n",
    "\n",
    "    return updated_W"
   ]
  },
  {
   "cell_type": "markdown",
   "id": "e1f8c805-7d55-4066-aadd-b75a165aa771",
   "metadata": {},
   "source": [
    "# Equation (9)\n",
    "The equation(8) can be significantly improved, without sacrificing the simplicity and locality,<br> by using an acceleration method in which the current gradient is used to modify the velocity of the point in weight space instead of its position.\n",
    "$$\n",
    "\\Delta w(t) = - \\epsilon \\partial E / \\partial w(t) + \\alpha \\Delta w (t-1)\n",
    "$$\n",
    "$where$<br>$t$ is incremented by 1 for each sweep through the whole set of input-output cases,<br>\n",
    "$\\alpha$ is an exponential decay factor between 0 and 1 that determines the relative contribution of the current gradient and earlier gradients to the weight change."
   ]
  },
  {
   "cell_type": "code",
   "execution_count": 10,
   "id": "2a247fa7-fcac-4e92-9fe0-31c422f32654",
   "metadata": {},
   "outputs": [],
   "source": [
    "def update_weights_with_momentum(W, dE_dw, prev_delta_W, epsilon, alpha):\n",
    "    updated_W = []\n",
    "    current_delta_W = []\n",
    "    for w_row, dE_dw_row, prev_delta_W_row in zip(W, dE_dw, prev_delta_W):\n",
    "        updated_w_row = []\n",
    "        current_delta_w_row = []\n",
    "        for w_ji, dE_dw_ji, prev_delta_w_ji in zip(w_row, dE_dw_row, prev_delta_W_row):\n",
    "            delta_w_ji = -epsilon * dE_dw_ji + alpha * prev_delta_w_ji\n",
    "            updated_w_row.append(w_ji + delta_w_ji)\n",
    "            current_delta_w_row.append(delta_w_ji)\n",
    "        updated_W.append(updated_w_row)\n",
    "        current_delta_W.append(current_delta_w_row)\n",
    "\n",
    "    return updated_W, current_delta_W"
   ]
  },
  {
   "cell_type": "markdown",
   "id": "cf8f85a1-caba-4c46-aecb-40b7fc31063d",
   "metadata": {},
   "source": [
    "# Multilayer Neuron Network"
   ]
  },
  {
   "cell_type": "code",
   "execution_count": 12,
   "id": "7187217d-2677-4478-8d8d-c88411077aac",
   "metadata": {},
   "outputs": [],
   "source": [
    "import numpy as np\n",
    "from tqdm.auto import tqdm\n",
    "import matplotlib.pyplot as plt"
   ]
  },
  {
   "cell_type": "code",
   "execution_count": 67,
   "id": "3be96ca0-d646-4c8a-8720-84c3f23af1ee",
   "metadata": {},
   "outputs": [],
   "source": [
    "class MLP:\n",
    "    def __init__(self, input_size, hidden_size, output_size):\n",
    "        self.input_size = input_size\n",
    "        self.hidden_size = hidden_size\n",
    "        self.output_size = output_size\n",
    "\n",
    "        self.w1_2_3_4 = [[1, 10], [1, 10]]\n",
    "        self.w5_6 = [[-40], [40]]\n",
    "        \n",
    "    def sigmoid(self, x):\n",
    "        return 1 / (1 + np.exp(-x))\n",
    "\n",
    "    def forward(self, X):\n",
    "        self.z1_2 = np.dot(X, self.w1_2_3_4)\n",
    "        self.h = self.sigmoid(self.z1_2)\n",
    "        self.z3 = np.dot(self.h, self.w5_6)\n",
    "        self.o = self.sigmoid(self.z3)\n",
    "        return self.o\n",
    "\n",
    "    def mse_loss(self, y_true, y_pred):\n",
    "        return np.mean((y_true - y_pred)**2)\n",
    "\n",
    "    def backward(self, X, y, y_pred, learning_rate):\n",
    "        dc_do1 = -2 * (y - y_pred)\n",
    "        do1_dz3 = y_pred * (1 - y_pred)\n",
    "        dz3_dw5_6 = self.h\n",
    "        dc_dw5_6  = dc_do1 * do1_dz3 * dz3_dw5_6\n",
    "        self.w5_6 = self.w5_6 + learning_rate * -dc_dw5_6.T\n",
    "        \n",
    "        dc_dw1_2_3_4 = dc_do1 * do1_dz3 * np.dot(self.w5_6 * (self.h * (1 - self.h)).T, X)\n",
    "        self.w1_2_3_4 = self.w1_2_3_4 + learning_rate * -dc_dw1_2_3_4.T\n",
    "    \n",
    "    def train(self, X_train, y_train, epochs, learning_rate):\n",
    "        for epoch in tqdm(range(epochs)):\n",
    "            for i in range(len(X_train)):\n",
    "                y_pred = self.forward([X_train[i]])\n",
    "                loss = self.mse_loss([y_train[i]], y_pred)\n",
    "                self.backward([X_train[i]], [y_train[i]], y_pred, learning_rate)\n",
    "            if np.mod(epoch, 100) == 0:\n",
    "                print(f'epoch = {epoch}, loss = {loss}')\n",
    "            \n",
    "                    \n"
   ]
  },
  {
   "cell_type": "code",
   "execution_count": 68,
   "id": "d561d7d1-0750-4b0d-9f57-c326c30ec44f",
   "metadata": {},
   "outputs": [],
   "source": [
    "X_train = np.random.randint(0, 2, (100, 2))\n",
    "y_train = (X_train[:, 0] != X_train[:, 1]).astype(int)"
   ]
  },
  {
   "cell_type": "code",
   "execution_count": 69,
   "id": "7f839156-b4ba-4917-8b1e-af320e1601ab",
   "metadata": {},
   "outputs": [
    {
     "data": {
      "text/plain": [
       "array([1, 0])"
      ]
     },
     "execution_count": 69,
     "metadata": {},
     "output_type": "execute_result"
    }
   ],
   "source": [
    "X_train[1]"
   ]
  },
  {
   "cell_type": "code",
   "execution_count": 70,
   "id": "2a14845c-0c0d-4bbf-a99b-711dd5ba8c12",
   "metadata": {},
   "outputs": [
    {
     "data": {
      "text/plain": [
       "1"
      ]
     },
     "execution_count": 70,
     "metadata": {},
     "output_type": "execute_result"
    }
   ],
   "source": [
    "y_train[1]"
   ]
  },
  {
   "cell_type": "code",
   "execution_count": 60,
   "id": "59f24246-4bbd-4daa-9856-eff57a25e236",
   "metadata": {},
   "outputs": [],
   "source": [
    "mlp = MLP(input_size=2, hidden_size=50000, output_size=1)"
   ]
  },
  {
   "cell_type": "code",
   "execution_count": 71,
   "id": "07361c48-6edd-409d-ae39-fb44defc3283",
   "metadata": {},
   "outputs": [
    {
     "data": {
      "application/vnd.jupyter.widget-view+json": {
       "model_id": "dcf577713eaa405d869b2bfd646fc2f0",
       "version_major": 2,
       "version_minor": 0
      },
      "text/plain": [
       "  0%|          | 0/5000 [00:00<?, ?it/s]"
      ]
     },
     "metadata": {},
     "output_type": "display_data"
    },
    {
     "name": "stdout",
     "output_type": "stream",
     "text": [
      "epcoh = 0, loss = 0.00022015812030046683\n",
      "epcoh = 100, loss = 0.00024805913810660646\n",
      "epcoh = 200, loss = 0.0002476592420388722\n",
      "epcoh = 300, loss = 0.0002472605859686342\n",
      "epcoh = 400, loss = 0.00024686316246771246\n",
      "epcoh = 500, loss = 0.00024646696432065315\n",
      "epcoh = 600, loss = 0.0002460719845141572\n",
      "epcoh = 700, loss = 0.0002456782162257503\n",
      "epcoh = 800, loss = 0.0002452856528127462\n",
      "epcoh = 900, loss = 0.0002448942878024028\n",
      "epcoh = 1000, loss = 0.00024450411488210946\n",
      "epcoh = 1100, loss = 0.00024411512789061324\n",
      "epcoh = 1200, loss = 0.00024372732080899152\n",
      "epcoh = 1300, loss = 0.00024334068775329397\n",
      "epcoh = 1400, loss = 0.00024295522296626228\n",
      "epcoh = 1500, loss = 0.0002425709208106972\n",
      "epcoh = 1600, loss = 0.00024218777576241046\n",
      "epcoh = 1700, loss = 0.0002418057824040047\n",
      "epcoh = 1800, loss = 0.00024142493541886884\n",
      "epcoh = 1900, loss = 0.00024104522958541942\n",
      "epcoh = 2000, loss = 0.00024066665977198488\n",
      "epcoh = 2100, loss = 0.0002402892209317278\n",
      "epcoh = 2200, loss = 0.00023991290809774427\n",
      "epcoh = 2300, loss = 0.00023953771637887948\n",
      "epcoh = 2400, loss = 0.0002391636409554962\n",
      "epcoh = 2500, loss = 0.00023879067707548244\n",
      "epcoh = 2600, loss = 0.0002384188200504969\n",
      "epcoh = 2700, loss = 0.00023804806525272584\n",
      "epcoh = 2800, loss = 0.00023767840811142764\n",
      "epcoh = 2900, loss = 0.00023730984410987198\n",
      "epcoh = 3000, loss = 0.00023694236878258292\n",
      "epcoh = 3100, loss = 0.00023657597771245783\n",
      "epcoh = 3200, loss = 0.00023621066652843335\n",
      "epcoh = 3300, loss = 0.0002358464309027788\n",
      "epcoh = 3400, loss = 0.00023548326654937478\n",
      "epcoh = 3500, loss = 0.00023512116922104015\n",
      "epcoh = 3600, loss = 0.000234760134707964\n",
      "epcoh = 3700, loss = 0.00023440015883556564\n",
      "epcoh = 3800, loss = 0.00023404123746321241\n",
      "epcoh = 3900, loss = 0.00023368336648201926\n",
      "epcoh = 4000, loss = 0.00023332654181377728\n",
      "epcoh = 4100, loss = 0.00023297075940933743\n",
      "epcoh = 4200, loss = 0.00023261601524741043\n",
      "epcoh = 4300, loss = 0.00023226230533311733\n",
      "epcoh = 4400, loss = 0.000231909625697067\n",
      "epcoh = 4500, loss = 0.00023155797239421636\n",
      "epcoh = 4600, loss = 0.00023120734150265229\n",
      "epcoh = 4700, loss = 0.0002308577291229259\n",
      "epcoh = 4800, loss = 0.0002305091313771772\n",
      "epcoh = 4900, loss = 0.0002301615444079326\n"
     ]
    }
   ],
   "source": [
    "mlp.train(X_train, y_train, epochs=5000, learning_rate=0.1)"
   ]
  },
  {
   "cell_type": "code",
   "execution_count": 72,
   "id": "b2c2e47f-410c-4965-86ed-e6bbdf51f7b2",
   "metadata": {},
   "outputs": [
    {
     "name": "stdout",
     "output_type": "stream",
     "text": [
      "predicted_output: [[0 0]], [[0.00311704]]\n",
      "predicted_output: [[1 0]], [[0.99008973]]\n",
      "predicted_output: [[0 1]], [[0.98859112]]\n",
      "predicted_output: [[1 1]], [[0.01510274]]\n"
     ]
    }
   ],
   "source": [
    "test_input = np.array([[0, 0]])\n",
    "pred_output = mlp.forward(test_input)\n",
    "print(f'predicted_output: {test_input}, {pred_output}')\n",
    "\n",
    "test_input = np.array([[1, 0]])\n",
    "pred_output = mlp.forward(test_input)\n",
    "print(f'predicted_output: {test_input}, {pred_output}')\n",
    "\n",
    "test_input = np.array([[0, 1]])\n",
    "pred_output = mlp.forward(test_input)\n",
    "print(f'predicted_output: {test_input}, {pred_output}')\n",
    "\n",
    "test_input = np.array([[1, 1]])\n",
    "pred_output = mlp.forward(test_input)\n",
    "print(f'predicted_output: {test_input}, {pred_output}')"
   ]
  }
 ],
 "metadata": {
  "kernelspec": {
   "display_name": "Python 3 (ipykernel)",
   "language": "python",
   "name": "python3"
  },
  "language_info": {
   "codemirror_mode": {
    "name": "ipython",
    "version": 3
   },
   "file_extension": ".py",
   "mimetype": "text/x-python",
   "name": "python",
   "nbconvert_exporter": "python",
   "pygments_lexer": "ipython3",
   "version": "3.11.5"
  }
 },
 "nbformat": 4,
 "nbformat_minor": 5
}
