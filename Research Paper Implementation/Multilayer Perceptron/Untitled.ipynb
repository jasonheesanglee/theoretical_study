{
 "cells": [
  {
   "cell_type": "markdown",
   "id": "ba6b359f-320c-4ae5-9dc9-247988ef13a4",
   "metadata": {},
   "source": [
    "# Multilayer Perceptron"
   ]
  },
  {
   "cell_type": "markdown",
   "id": "e0adbde6-f422-49b3-870e-649712d3c65b",
   "metadata": {},
   "source": [
    "The simplest form of the learning procedure is for layered networks,<br> which have a layer of input units at the bottom;<br> any number of intermediate layers;<br> and a layer of output units at the top.<br><br>\n",
    "Connections within a layer or from higher to lower layers are forbidden, but the connections **can skip intermediate layers**.<br>\n",
    "An input vector is presented to the network by setting the states of the input units.<br>\n",
    "Then the states of the units in each layer are determined by applying equations (1) and (2) to the connections coming from the lower layers.<br>\n",
    "All units within a layer have their states set in parallel, but different layers have their states set sequentially, starting at the bottom and working upwards until the states of the output units are determined.<br><br>\n",
    "\n",
    "## Equation (1).\n",
    "The total input $x_j$, to unit $j$ is a linear function of the outputs $y_i$, of the units that are connected to $j$ and of the weights $w_{ji}$, on these connections.\n",
    "$$\n",
    "x_j = \\sum_i y_iw_{ji}\n",
    "$$\n",
    "\n",
    "## Equation (2).\n",
    "Units can be given biases by introducing an extra input to each unit which always has a value of 1.<br>\n",
    "The weight on this extra input is called the bias and is equivalent to a threshold of the opposite sign.<br>\n",
    "It can be treated just like the other weights.<br>\n",
    "A unit has a real-valued output $y_j$, which is a non-linear function of its total input.\n",
    "$$\n",
    "y_j = \\frac{1}{1+e^{-x_j}}\n",
    "$$"
   ]
  },
  {
   "cell_type": "code",
   "execution_count": null,
   "id": "6d3df813-6536-47b4-a7ff-65e27579307c",
   "metadata": {},
   "outputs": [],
   "source": []
  }
 ],
 "metadata": {
  "kernelspec": {
   "display_name": "Python 3 (ipykernel)",
   "language": "python",
   "name": "python3"
  },
  "language_info": {
   "codemirror_mode": {
    "name": "ipython",
    "version": 3
   },
   "file_extension": ".py",
   "mimetype": "text/x-python",
   "name": "python",
   "nbconvert_exporter": "python",
   "pygments_lexer": "ipython3",
   "version": "3.11.5"
  }
 },
 "nbformat": 4,
 "nbformat_minor": 5
}
